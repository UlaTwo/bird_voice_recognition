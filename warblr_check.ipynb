{
 "cells": [
  {
   "cell_type": "code",
   "execution_count": 3,
   "id": "racial-blowing",
   "metadata": {},
   "outputs": [
    {
     "name": "stderr",
     "output_type": "stream",
     "text": [
      "/home/utworzyd/miniconda3/envs/pytorch_2/lib/python3.8/site-packages/torchaudio/backend/utils.py:53: UserWarning: \"sox\" backend is being deprecated. The default backend will be changed to \"sox_io\" backend in 0.8.0 and \"sox\" backend will be removed in 0.9.0. Please migrate to \"sox_io\" backend. Please refer to https://github.com/pytorch/audio/issues/903 for the detail.\n",
      "  warnings.warn(\n"
     ]
    }
   ],
   "source": [
    "import pandas as pd\n",
    "import numpy as np\n",
    "\n",
    "from CNN_Audio_Model import CNN_Audio_Model\n",
    "from TestDataset import TestDataset\n",
    "\n",
    "import torch\n",
    "from torch.utils.data import DataLoader\n",
    "import pytorch_lightning as pl\n",
    "\n",
    "import torchaudio\n",
    "import os\n",
    "import matplotlib.pyplot as plt\n",
    "from pydub import AudioSegment\n",
    "\n",
    "import os"
   ]
  },
  {
   "cell_type": "code",
   "execution_count": 4,
   "id": "tamil-biology",
   "metadata": {},
   "outputs": [],
   "source": [
    "listFiles=[]\n",
    "\n",
    "for filename in os.listdir(\"./Warblr/data/wav\"):\n",
    "    listFiles.append(filename)\n"
   ]
  },
  {
   "cell_type": "code",
   "execution_count": 5,
   "id": "efficient-folks",
   "metadata": {},
   "outputs": [],
   "source": [
    "#wczytanie wyniku z csv:\n",
    "csv_path = \"./warblrb10k_public_metadata.csv\"\n",
    "csv_data = pd.read_csv(csv_path)"
   ]
  },
  {
   "cell_type": "code",
   "execution_count": 8,
   "id": "copyrighted-immune",
   "metadata": {},
   "outputs": [],
   "source": [
    "\n",
    "class Classifier():\n",
    "    def __init__(self,path, file_name):\n",
    "        self.path = path\n",
    "        self.file = file_name\n",
    "        self.model = CNN_Audio_Model.load_from_checkpoint(checkpoint_path=\"./model_25e_vallist.ckpt\")\n",
    "        self.trainer = pl.Trainer()\n",
    "#         self.model_prediction = self.run_model()\n",
    "        self.model_prediction = self.run_model_with_resize()\n",
    "\n",
    "    #TODO: to możnaby w sumie jakoś ładniej podzielić\n",
    "    def run_model(self):\n",
    "        #i tutaj jakoś sprawdzenie długości nagrania i ewentualne odpalenie kilka razy\n",
    "        loadedAudio = AudioSegment.from_wav(self.path)\n",
    "\n",
    "        time = loadedAudio.duration_seconds\n",
    "\n",
    "        #dodanie ciszy, tak żeby długość nagrania była podzielna przez 10\n",
    "        if time%10 !=0:\n",
    "            silent_time = 10.00 - time%10\n",
    "            silent_time = np.ceil(silent_time)\n",
    "        else:\n",
    "            silent_time = 0\n",
    "        silent_segment = AudioSegment.silent(duration=silent_time*1000) \n",
    "\n",
    "        loadedAudio = loadedAudio + silent_segment\n",
    "        counter = int(loadedAudio.duration_seconds/10)\n",
    "        loadedAudio = loadedAudio[0:10*counter*1000]\n",
    "        \n",
    "        model_predictions = []\n",
    "        for i in range(counter):\n",
    "            cutAudio = loadedAudio[i*10*1000:10*(i+1)*1000]\n",
    "            cutAudio.export('processedAudio.wav', format=\"wav\")\n",
    "            result = self.trainer.test(model=self.model,test_dataloaders = DataLoader(TestDataset( './processedAudio.wav', 1), batch_size = 64) )\n",
    "            model_predictions.append( result[0][\"test_epoch_end_accuracy\"] )\n",
    "\n",
    "        os.remove('./processedAudio.wav')\n",
    "        if 1 in model_predictions:\n",
    "            return 1\n",
    "        else:\n",
    "            return 0\n",
    "        \n",
    "    #run_model, w którym pliki są po prostu wczytywane, a problem zbyt dużego rozmiaru jest rozwiązywany przez resize\n",
    "    def run_model_with_resize(self):\n",
    "        result = self.trainer.test(model=self.model,test_dataloaders = DataLoader(TestDataset( self.path, 1), batch_size = 64) )\n",
    "        return result[0][\"test_epoch_end_accuracy\"]\n",
    "\n"
   ]
  },
  {
   "cell_type": "code",
   "execution_count": 1,
   "id": "sitting-change",
   "metadata": {},
   "outputs": [
    {
     "ename": "NameError",
     "evalue": "name 'listFiles' is not defined",
     "output_type": "error",
     "traceback": [
      "\u001b[0;31m---------------------------------------------------------------------------\u001b[0m",
      "\u001b[0;31mNameError\u001b[0m                                 Traceback (most recent call last)",
      "\u001b[0;32m<ipython-input-1-6c335f4f23dd>\u001b[0m in \u001b[0;36m<module>\u001b[0;34m\u001b[0m\n\u001b[1;32m      1\u001b[0m \u001b[0;31m# warblrb10k_public_metadata.csv\u001b[0m\u001b[0;34m\u001b[0m\u001b[0;34m\u001b[0m\u001b[0;34m\u001b[0m\u001b[0m\n\u001b[1;32m      2\u001b[0m \u001b[0mgoodPredictions\u001b[0m \u001b[0;34m=\u001b[0m \u001b[0;34m[\u001b[0m\u001b[0;34m]\u001b[0m\u001b[0;34m\u001b[0m\u001b[0;34m\u001b[0m\u001b[0m\n\u001b[0;32m----> 3\u001b[0;31m \u001b[0;32mfor\u001b[0m \u001b[0mfile\u001b[0m \u001b[0;32min\u001b[0m \u001b[0mlistFiles\u001b[0m\u001b[0;34m:\u001b[0m\u001b[0;34m\u001b[0m\u001b[0;34m\u001b[0m\u001b[0m\n\u001b[0m\u001b[1;32m      4\u001b[0m     \u001b[0mclassif\u001b[0m \u001b[0;34m=\u001b[0m \u001b[0mClassifier\u001b[0m\u001b[0;34m(\u001b[0m\u001b[0;34m\"./Warblr/data/wav/\"\u001b[0m\u001b[0;34m+\u001b[0m\u001b[0mfile\u001b[0m\u001b[0;34m,\u001b[0m \u001b[0mfile\u001b[0m\u001b[0;34m)\u001b[0m\u001b[0;34m\u001b[0m\u001b[0;34m\u001b[0m\u001b[0m\n\u001b[1;32m      5\u001b[0m     \u001b[0;31m#tu robisz troszkę bezsensowne przeszukiwanie drugi raz csvki\u001b[0m\u001b[0;34m\u001b[0m\u001b[0;34m\u001b[0m\u001b[0;34m\u001b[0m\u001b[0m\n",
      "\u001b[0;31mNameError\u001b[0m: name 'listFiles' is not defined"
     ]
    }
   ],
   "source": [
    "# warblrb10k_public_metadata.csv\n",
    "goodPredictions = []\n",
    "for file in listFiles:\n",
    "    classif = Classifier(\"./Warblr/data/wav/\"+file, file)\n",
    "    #tu robisz troszkę bezsensowne przeszukiwanie drugi raz csvki\n",
    "    csv_row = csv_data.loc[ csv_data['itemid']==file[:-4] ] \n",
    "    print(file)\n",
    "    print(csv_row['hasbird'])\n",
    "    data_prediction = int(csv_row['hasbird'] )\n",
    "    if classif.model_prediction == data_prediction:\n",
    "        goodPredictions.append(1)\n",
    "        #goodPredictions = goodPredictions+1\n",
    "    else:\n",
    "        goodPredictions.append(0)\n",
    "        \n",
    "#zapis do pliku tego, co udało się uzyskać\n",
    "with open('predictions_for_warblr.txt', 'w') as filehandle:\n",
    "    for ide in range(len(goodPredictions)):\n",
    "        filehandle.write('%s,' % listFiles[ide])\n",
    "        filehandle.write('%s\\n' % goodPredictions[ide])\n",
    "        \n",
    "print(\"Liczba dobrych predykcji: \",sum(goodPredictions))\n",
    "print(\"Liczba wszystkich predykcji: \", len(goodPredictions))"
   ]
  }
 ],
 "metadata": {
  "kernelspec": {
   "display_name": "Python 3",
   "language": "python",
   "name": "python3"
  },
  "language_info": {
   "codemirror_mode": {
    "name": "ipython",
    "version": 3
   },
   "file_extension": ".py",
   "mimetype": "text/x-python",
   "name": "python",
   "nbconvert_exporter": "python",
   "pygments_lexer": "ipython3",
   "version": "3.8.5"
  }
 },
 "nbformat": 4,
 "nbformat_minor": 5
}
