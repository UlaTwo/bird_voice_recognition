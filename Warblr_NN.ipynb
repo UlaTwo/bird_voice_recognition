{
 "cells": [
  {
   "cell_type": "code",
   "execution_count": 1,
   "id": "outer-belief",
   "metadata": {},
   "outputs": [
    {
     "name": "stderr",
     "output_type": "stream",
     "text": [
      "/home/utworzyd/miniconda3/envs/pytorch_2/lib/python3.8/site-packages/torchaudio/backend/utils.py:53: UserWarning: \"sox\" backend is being deprecated. The default backend will be changed to \"sox_io\" backend in 0.8.0 and \"sox\" backend will be removed in 0.9.0. Please migrate to \"sox_io\" backend. Please refer to https://github.com/pytorch/audio/issues/903 for the detail.\n",
      "  warnings.warn(\n"
     ]
    }
   ],
   "source": [
    "import torch\n",
    "from torch.nn import functional as F\n",
    "from torch.utils.data import DataLoader, random_split, Dataset, IterableDataset\n",
    "from torchvision import transforms, datasets\n",
    "import pytorch_lightning as pl\n",
    "import pandas as pd\n",
    "import numpy as np\n",
    "\n",
    "import torchaudio\n",
    "\n",
    "import wandb\n",
    "from pytorch_lightning.loggers import WandbLogger"
   ]
  },
  {
   "cell_type": "code",
   "execution_count": 2,
   "id": "quality-vegetable",
   "metadata": {},
   "outputs": [
    {
     "name": "stderr",
     "output_type": "stream",
     "text": [
      "\u001b[34m\u001b[1mwandb\u001b[0m: Currently logged in as: \u001b[33mulatwo\u001b[0m (use `wandb login --relogin` to force relogin)\n"
     ]
    },
    {
     "data": {
      "text/plain": [
       "True"
      ]
     },
     "execution_count": 2,
     "metadata": {},
     "output_type": "execute_result"
    }
   ],
   "source": [
    "wandb.login()"
   ]
  },
  {
   "cell_type": "markdown",
   "id": "macro-subscription",
   "metadata": {},
   "source": [
    "# Dataset Module"
   ]
  },
  {
   "cell_type": "code",
   "execution_count": 19,
   "id": "executive-creek",
   "metadata": {},
   "outputs": [],
   "source": [
    "\n",
    "class WarblrDataset(Dataset):\n",
    "\n",
    "    # Argument list\n",
    "    # path to the BirdVox-20k csv file\n",
    "    # path to the BirdVox-20k audio files\n",
    "    \n",
    "    def __init__(self, csv_path,file_path):\n",
    "        \n",
    "        csvData = pd.read_csv(csv_path,dtype = {'hasbird':np.float32})\n",
    "        self.file_names = []\n",
    "        self.labels = []\n",
    "        \n",
    "        for i in range( 0,len(csvData) ):\n",
    "            self.file_names.append(csvData.iloc[i,0])\n",
    "            self.labels.append(csvData.iloc[i,1])\n",
    "            \n",
    "        #tutaj label na float    \n",
    "        self.file_path = file_path\n",
    "        self.mel_spectogram = torchaudio.transforms.MelSpectrogram(sample_rate=44100,\n",
    "                                                                   n_fft=1261, \n",
    "                                                                   #n_fft=1268,\n",
    "                                                                   n_mels=80, \n",
    "                                                                   window_fn=torch.hamming_window,\n",
    "                                                                   f_min=50, f_max = 12000)\n",
    "        self.amplitude_to_db = torchaudio.transforms.AmplitudeToDB()\n",
    "    \n",
    "    def __len__(self):\n",
    "        \n",
    "        return len(self.file_names)\n",
    "    \n",
    "    def __getitem__(self, index):\n",
    "        \n",
    "        path = self.file_path+\"/\"+self.file_names[index]+\".wav\"\n",
    "        \n",
    "        #Load audio file into torch.Tensor object. \n",
    "        waveform, sample_rate = torchaudio.load(path)\n",
    "        # utworzenie Mal Spektogramu\n",
    "        specgram = self.mel_spectogram(waveform)\n",
    "        specgram  = transforms.Resize((80,700))(specgram)\n",
    "        # transformacja za skali amplitud do decybeli\n",
    "        transformedAmpToDB = self.amplitude_to_db(specgram)\n",
    "\n",
    "        # normalizacja\n",
    "        tensor_minusmean = transformedAmpToDB - transformedAmpToDB.mean()\n",
    "        soundFormatted = tensor_minusmean/tensor_minusmean.abs().max()\n",
    "\n",
    "        return soundFormatted, self.labels[index] , self.file_names[index]"
   ]
  },
  {
   "cell_type": "code",
   "execution_count": 8,
   "id": "matched-hearing",
   "metadata": {},
   "outputs": [],
   "source": [
    "class WarblrDataModule(pl.LightningDataModule):\n",
    "    \n",
    "    def __init__(self, csv_path, file_path, batch_size, num_workers):\n",
    "        super().__init__()\n",
    "        self.batch_size = batch_size\n",
    "        self.csv_path = csv_path\n",
    "        self.file_path = file_path\n",
    "        self.num_workers = num_workers\n",
    "    \n",
    "    def setup(self, stage=None):\n",
    "        birdvox_dataset = WarblrDataset(self.csv_path, self.file_path)\n",
    "        self.train_set, self.val_set, self.test_set = torch.utils.data.random_split(birdvox_dataset, [6400,1200,400], generator=torch.Generator().manual_seed(42))\n",
    "        print(self.val_set[0])\n",
    "\n",
    "    def train_dataloader(self):\n",
    "        return DataLoader(self.train_set, batch_size = self.batch_size, num_workers= self.num_workers)\n",
    "    \n",
    "    def val_dataloader(self):\n",
    "        return DataLoader(self.val_set, batch_size = self.batch_size, num_workers= self.num_workers)\n",
    "\n",
    "    def test_dataloader(self):\n",
    "        return DataLoader(self.test_set, batch_size = self.batch_size, num_workers= self.num_workers) \n",
    "    "
   ]
  },
  {
   "cell_type": "markdown",
   "id": "sacred-burke",
   "metadata": {},
   "source": [
    "# opis sieci\n",
    "##### Input -700x80x1\n",
    "##### Convolution (3x3) -698x78x16\n",
    "##### Pool (3x3) -232x26x16\n",
    "        \n",
    "##### Convolution (3x3) -230x24x16\n",
    "##### Pool (3x3) -76x8x16\n",
    "        \n",
    "##### Convolution (3x3) -74x6x16\n",
    "##### Pool (3x1) -24x6x16\n",
    "        \n",
    "##### Convolution (3x3) -22x4x16\n",
    "##### Pool (3x1)-7x4x16\n",
    "        \n",
    "##### Dense (256) -256\n",
    "##### Dense (32) -32\n",
    "##### Dense (1) -1"
   ]
  },
  {
   "cell_type": "code",
   "execution_count": 9,
   "id": "daily-narrow",
   "metadata": {},
   "outputs": [],
   "source": [
    "class CNN_Audio_Model(pl.LightningModule):\n",
    "    def __init__(self):\n",
    "        super().__init__()\n",
    "        \n",
    "        #convolution layers\n",
    "        self.layer1 = torch.nn.Sequential(torch.nn.Conv2d(1,16,kernel_size=3),\n",
    "                                          torch.nn.BatchNorm2d(16),\n",
    "                                          torch.nn.LeakyReLU(0.001),\n",
    "                                          torch.nn.MaxPool2d((3,3)) )\n",
    "        \n",
    "        self.layer2 = torch.nn.Sequential(torch.nn.Conv2d(16,16,kernel_size=3),\n",
    "                                          torch.nn.BatchNorm2d(16),\n",
    "                                          torch.nn.LeakyReLU(0.001),\n",
    "                                          torch.nn.MaxPool2d((3,3)) )\n",
    "        \n",
    "        self.layer3 = torch.nn.Sequential(torch.nn.Conv2d(16,16,kernel_size=3),\n",
    "                                          torch.nn.BatchNorm2d(16),\n",
    "                                          torch.nn.LeakyReLU(0.001),\n",
    "                                          torch.nn.MaxPool2d((1,3)))\n",
    "\n",
    "        self.layer4 = torch.nn.Sequential(torch.nn.Conv2d(16,16,kernel_size=3),\n",
    "                                          torch.nn.BatchNorm2d(16),\n",
    "                                          torch.nn.LeakyReLU(0.001),\n",
    "                                          torch.nn.MaxPool2d((1,3)),\n",
    "                                          torch.nn.Flatten())\n",
    "        \n",
    "        #dense layers\n",
    "        self.dropout = torch.nn.Dropout()\n",
    "        self.fc1 = torch.nn.Linear(7*4*16,256)\n",
    "        self.batch1 = torch.nn.BatchNorm1d(256) \n",
    "        self.leakyReLU = torch.nn.LeakyReLU(0.001)\n",
    "        \n",
    "        self.fc2 = torch.nn.Linear(256,32)\n",
    "        self.batch2 = torch.nn.BatchNorm1d(32) #i na tym leakyRelu\n",
    "        \n",
    "        self.fc3 = torch.nn.Linear(32,1) #i na tym sigmoid\n",
    "        self.sigmoid = torch.nn.Sigmoid()\n",
    "        \n",
    "        self.flatten = torch.nn.Flatten(start_dim=0)\n",
    "        \n",
    "        # compute the accuracy -- no need to roll your own!\n",
    "        self.train_acc = pl.metrics.Accuracy()\n",
    "        self.valid_acc = pl.metrics.Accuracy()\n",
    "        self.test_acc = pl.metrics.Accuracy()\n",
    "        \n",
    "        self.validation_wrong_classified = []\n",
    "        self.validation_wrong_classified_epoch = []\n",
    "        \n",
    "        \n",
    "    def forward(self,x):\n",
    "        \n",
    "        #convolution layers\n",
    "        x=self.layer1(x)\n",
    "        x=self.layer2(x)\n",
    "        x=self.layer3(x)\n",
    "        x=self.layer4(x)\n",
    "\n",
    "        #dense layers\n",
    "        x=self.dropout(x)\n",
    "        x=self.fc1(x)\n",
    "        x=self.batch1(x)\n",
    "        x=self.leakyReLU(x)\n",
    "        \n",
    "        x=self.dropout(x)\n",
    "        x=self.fc2(x)\n",
    "        x=self.batch2(x)\n",
    "        x=self.leakyReLU(x)\n",
    "        \n",
    "        x=self.dropout(x)\n",
    "        \n",
    "        x=self.fc3(x)\n",
    "        \n",
    "        x = self.sigmoid(x)\n",
    "        \n",
    "        #PYTANIE: czy to tutaj może być, czy jest to problem jednak?\n",
    "        #problematyczny shape tensora dla cross_entropy, dlatego reshape\n",
    "        #był: tensor([[0.4876], ... , [0.4875]]) po: tensor([0.4876, ... ,0.4875])\n",
    "        # reshape na flatten\n",
    "        x=self.flatten(x)\n",
    "        return x\n",
    "    \n",
    "    #z artykułu: The network is trained on binary cross entropy loss using accuracy as a metric.\n",
    "    def cross_entropy_loss(self, logits, labels):\n",
    "        return F.binary_cross_entropy(logits, labels)\n",
    "\n",
    "    def training_step(self, train_batch, batch_idx):\n",
    "        x, y, f = train_batch\n",
    "        logits = self.forward(x)\n",
    "        loss = self.cross_entropy_loss(logits, y)\n",
    "        \n",
    "        self.log('train_loss', loss, on_epoch=True, sync_dist=True)\n",
    "        \n",
    "        y = y.int()\n",
    "        accuracy = self.train_acc(logits, y)\n",
    "        self.log('train_acc', self.train_acc, on_epoch=True, sync_dist=True)\n",
    "        \n",
    "        return {'loss': loss, 'accuracy': accuracy}\n",
    "\n",
    "    def validation_step(self, val_batch, batch_idx):\n",
    "        x, y, f = val_batch\n",
    "        logits = self.forward(x)\n",
    "        loss = self.cross_entropy_loss(logits, y)\n",
    "#         print('names: ', f)\n",
    "#         print('logits: ', logits)\n",
    "#         print('y: ',y)\n",
    "#         print('loss: ', loss)\n",
    "        y = y.int()\n",
    "        accuracy = self.valid_acc(logits, y)\n",
    "#         print('accuracy: ',accuracy)\n",
    "        \n",
    "        list_file_names = []\n",
    "        #trochę na wprost tworzenie listy tych nagrań, które zostały źle zaklasyfikowane\n",
    "        for id in range(len(f)):\n",
    "            if round(float(logits[id])) != y[id]:\n",
    "                self.validation_wrong_classified_epoch.append(f[id])\n",
    "                \n",
    "        return {'val_loss': loss, 'val_accuracy': accuracy}\n",
    "\n",
    "    def test_step(self, test_batch, batch_idx):\n",
    "        x, y, f = test_batch\n",
    "        logits = self.forward(x)\n",
    "        loss = self.cross_entropy_loss(logits, y)\n",
    "        y = y.int()\n",
    "        accuracy = self.test_acc(logits, y)\n",
    "        \n",
    "        return {'test_loss': loss, 'test_accuracy': accuracy}\n",
    "    \n",
    "    \n",
    "    def training_epoch_end(self, outputs):\n",
    "        \n",
    "        avg_loss = torch.stack([x['loss'] for x in outputs]).mean()\n",
    "        avg_accuracy = torch.stack([x['accuracy'] for x in outputs]).mean()\n",
    "\n",
    "        self.log('training_epoch_end_accuracy', avg_accuracy, sync_dist=True)\n",
    "        self.log('training_epoch_end_loss', avg_loss, sync_dist=True)\n",
    "        self.log('lr', self.optimizers().param_groups[0]['lr'], sync_dist=True)\n",
    "    \n",
    "    def validation_epoch_end(self, outputs):\n",
    "        avg_loss = torch.stack([x['val_loss'] for x in outputs]).mean()\n",
    "        avg_accuracy = torch.stack([x['val_accuracy'] for x in outputs]).mean()\n",
    "            \n",
    "        self.log('validation_epoch_end_accuracy', avg_accuracy, sync_dist=True)\n",
    "        self.log('validation_epoch_end_loss', avg_loss, sync_dist=True)\n",
    "        self.validation_wrong_classified.append(self.validation_wrong_classified_epoch.copy())\n",
    "        self.validation_wrong_classified_epoch.clear()\n",
    "\n",
    "    def test_epoch_end(self, outputs):\n",
    "        avg_loss = torch.stack([x['test_loss'] for x in outputs]).mean()\n",
    "        avg_accuracy = torch.stack([x['test_accuracy'] for x in outputs]).mean()\n",
    "        \n",
    "        self.log('test_epoch_end_accuracy', avg_accuracy, sync_dist=True)\n",
    "        self.log('test_epoch_end_loss', avg_loss, sync_dist=True)\n",
    "\n",
    "    #według artykułu: For training,ADAM optimizer is used with an initial learning rate of 0.001. \n",
    "    # ! The learning rate was reduced by a factor of 0.2 if there was no improvement in validation accuracy \n",
    "    #over five consecutive epochs.\n",
    "    \n",
    "    def configure_optimizers(self):\n",
    "        optimizer = torch.optim.Adam(self.parameters(), lr=1e-3)\n",
    "        lr_scheduler = torch.optim.lr_scheduler.ReduceLROnPlateau(optimizer, mode = 'min', factor = 0.2, patience = 5)\n",
    "        return {\n",
    "            'optimizer': optimizer,\n",
    "            'lr_scheduler': lr_scheduler,\n",
    "            'monitor': 'validation_epoch_end_loss'\n",
    "        }"
   ]
  },
  {
   "cell_type": "code",
   "execution_count": 20,
   "id": "rough-manual",
   "metadata": {},
   "outputs": [
    {
     "name": "stderr",
     "output_type": "stream",
     "text": [
      "GPU available: True, used: True\n",
      "TPU available: None, using: 0 TPU cores\n"
     ]
    },
    {
     "name": "stdout",
     "output_type": "stream",
     "text": [
      "(tensor([[[-0.9189, -0.8922, -0.5659,  ..., -0.2792, -0.2584, -0.2616],\n",
      "         [-0.8555, -0.8536, -0.6091,  ..., -0.2078, -0.1018, -0.2344],\n",
      "         [-0.9134, -0.9355, -0.6663,  ..., -0.0600, -0.0291, -0.2315],\n",
      "         ...,\n",
      "         [-0.6718, -0.6335, -0.6614,  ...,  0.0133, -0.0293, -0.0210],\n",
      "         [-0.6879, -0.6485, -0.6474,  ...,  0.0070, -0.0176, -0.0232],\n",
      "         [-0.6846, -0.6740, -0.6747,  ..., -0.0227,  0.0217, -0.0320]]]), 0.0, 'eccd4c99-6fdd-4bab-b115')\n"
     ]
    },
    {
     "name": "stderr",
     "output_type": "stream",
     "text": [
      "\u001b[34m\u001b[1mwandb\u001b[0m: wandb version 0.10.22 is available!  To upgrade, please run:\n",
      "\u001b[34m\u001b[1mwandb\u001b[0m:  $ pip install wandb --upgrade\n"
     ]
    },
    {
     "data": {
      "text/html": [
       "\n",
       "                Tracking run with wandb version 0.10.20<br/>\n",
       "                Syncing run <strong style=\"color:#cdcd00\">misty-flower-3</strong> to <a href=\"https://wandb.ai\" target=\"_blank\">Weights & Biases</a> <a href=\"https://docs.wandb.com/integrations/jupyter.html\" target=\"_blank\">(Documentation)</a>.<br/>\n",
       "                Project page: <a href=\"https://wandb.ai/ulatwo/Warblr-NeuralNetwork\" target=\"_blank\">https://wandb.ai/ulatwo/Warblr-NeuralNetwork</a><br/>\n",
       "                Run page: <a href=\"https://wandb.ai/ulatwo/Warblr-NeuralNetwork/runs/anhxf6n3\" target=\"_blank\">https://wandb.ai/ulatwo/Warblr-NeuralNetwork/runs/anhxf6n3</a><br/>\n",
       "                Run data is saved locally in <code>/data/home/utworzyd/praca_inz/wandb/run-20210310_142653-anhxf6n3</code><br/><br/>\n",
       "            "
      ],
      "text/plain": [
       "<IPython.core.display.HTML object>"
      ]
     },
     "metadata": {},
     "output_type": "display_data"
    },
    {
     "name": "stderr",
     "output_type": "stream",
     "text": [
      "\n",
      "   | Name      | Type        | Params\n",
      "-------------------------------------------\n",
      "0  | layer1    | Sequential  | 192   \n",
      "1  | layer2    | Sequential  | 2.4 K \n",
      "2  | layer3    | Sequential  | 2.4 K \n",
      "3  | layer4    | Sequential  | 2.4 K \n",
      "4  | dropout   | Dropout     | 0     \n",
      "5  | fc1       | Linear      | 114 K \n",
      "6  | batch1    | BatchNorm1d | 512   \n",
      "7  | leakyReLU | LeakyReLU   | 0     \n",
      "8  | fc2       | Linear      | 8.2 K \n",
      "9  | batch2    | BatchNorm1d | 64    \n",
      "10 | fc3       | Linear      | 33    \n",
      "11 | sigmoid   | Sigmoid     | 0     \n",
      "12 | flatten   | Flatten     | 0     \n",
      "13 | train_acc | Accuracy    | 0     \n",
      "14 | valid_acc | Accuracy    | 0     \n",
      "15 | test_acc  | Accuracy    | 0     \n",
      "-------------------------------------------\n",
      "131 K     Trainable params\n",
      "0         Non-trainable params\n",
      "131 K     Total params\n",
      "0.524     Total estimated model params size (MB)\n"
     ]
    },
    {
     "data": {
      "application/vnd.jupyter.widget-view+json": {
       "model_id": "54cc6c92b25a46db9dfb359483869fda",
       "version_major": 2,
       "version_minor": 0
      },
      "text/plain": [
       "Validation sanity check: 0it [00:00, ?it/s]"
      ]
     },
     "metadata": {},
     "output_type": "display_data"
    },
    {
     "data": {
      "application/vnd.jupyter.widget-view+json": {
       "model_id": "ec5068df6a794dfb93ae0d9e5b27d37a",
       "version_major": 2,
       "version_minor": 0
      },
      "text/plain": [
       "Training: 0it [00:00, ?it/s]"
      ]
     },
     "metadata": {},
     "output_type": "display_data"
    },
    {
     "data": {
      "application/vnd.jupyter.widget-view+json": {
       "model_id": "a8cb09e4b41c47e9a6b7be21d300a02d",
       "version_major": 2,
       "version_minor": 0
      },
      "text/plain": [
       "Validating: 0it [00:00, ?it/s]"
      ]
     },
     "metadata": {},
     "output_type": "display_data"
    },
    {
     "data": {
      "application/vnd.jupyter.widget-view+json": {
       "model_id": "b59fcc4dd3df44aca14a1053aeda3f27",
       "version_major": 2,
       "version_minor": 0
      },
      "text/plain": [
       "Validating: 0it [00:00, ?it/s]"
      ]
     },
     "metadata": {},
     "output_type": "display_data"
    },
    {
     "data": {
      "application/vnd.jupyter.widget-view+json": {
       "model_id": "6d6a5fd2fe8349008bb69de12afa8e1c",
       "version_major": 2,
       "version_minor": 0
      },
      "text/plain": [
       "Validating: 0it [00:00, ?it/s]"
      ]
     },
     "metadata": {},
     "output_type": "display_data"
    },
    {
     "data": {
      "application/vnd.jupyter.widget-view+json": {
       "model_id": "0120e5e20f5b47c4bd488faf3b02b17d",
       "version_major": 2,
       "version_minor": 0
      },
      "text/plain": [
       "Validating: 0it [00:00, ?it/s]"
      ]
     },
     "metadata": {},
     "output_type": "display_data"
    },
    {
     "data": {
      "application/vnd.jupyter.widget-view+json": {
       "model_id": "6bc0658b8ee744b1a3d490570123a7ab",
       "version_major": 2,
       "version_minor": 0
      },
      "text/plain": [
       "Validating: 0it [00:00, ?it/s]"
      ]
     },
     "metadata": {},
     "output_type": "display_data"
    },
    {
     "data": {
      "application/vnd.jupyter.widget-view+json": {
       "model_id": "61f3eb08528148408099b56149db7741",
       "version_major": 2,
       "version_minor": 0
      },
      "text/plain": [
       "Validating: 0it [00:00, ?it/s]"
      ]
     },
     "metadata": {},
     "output_type": "display_data"
    },
    {
     "data": {
      "application/vnd.jupyter.widget-view+json": {
       "model_id": "efa139921eaf42fe91f2bbb0fc0ecfbd",
       "version_major": 2,
       "version_minor": 0
      },
      "text/plain": [
       "Validating: 0it [00:00, ?it/s]"
      ]
     },
     "metadata": {},
     "output_type": "display_data"
    },
    {
     "data": {
      "application/vnd.jupyter.widget-view+json": {
       "model_id": "f8b188033abd4ab88409413e6a461314",
       "version_major": 2,
       "version_minor": 0
      },
      "text/plain": [
       "Validating: 0it [00:00, ?it/s]"
      ]
     },
     "metadata": {},
     "output_type": "display_data"
    },
    {
     "data": {
      "application/vnd.jupyter.widget-view+json": {
       "model_id": "c7d29900d6d64b6086618d75b9153170",
       "version_major": 2,
       "version_minor": 0
      },
      "text/plain": [
       "Validating: 0it [00:00, ?it/s]"
      ]
     },
     "metadata": {},
     "output_type": "display_data"
    },
    {
     "data": {
      "application/vnd.jupyter.widget-view+json": {
       "model_id": "0091225c56aa4f7cb37a2942fae79f9e",
       "version_major": 2,
       "version_minor": 0
      },
      "text/plain": [
       "Validating: 0it [00:00, ?it/s]"
      ]
     },
     "metadata": {},
     "output_type": "display_data"
    },
    {
     "data": {
      "application/vnd.jupyter.widget-view+json": {
       "model_id": "ab72381457cf48229b5d0436849bfabd",
       "version_major": 2,
       "version_minor": 0
      },
      "text/plain": [
       "Validating: 0it [00:00, ?it/s]"
      ]
     },
     "metadata": {},
     "output_type": "display_data"
    },
    {
     "data": {
      "application/vnd.jupyter.widget-view+json": {
       "model_id": "dbe5ee1db76f4095bacead8cff2218fc",
       "version_major": 2,
       "version_minor": 0
      },
      "text/plain": [
       "Validating: 0it [00:00, ?it/s]"
      ]
     },
     "metadata": {},
     "output_type": "display_data"
    },
    {
     "data": {
      "application/vnd.jupyter.widget-view+json": {
       "model_id": "7c95a279f9ea406badf0288b64314544",
       "version_major": 2,
       "version_minor": 0
      },
      "text/plain": [
       "Validating: 0it [00:00, ?it/s]"
      ]
     },
     "metadata": {},
     "output_type": "display_data"
    },
    {
     "data": {
      "application/vnd.jupyter.widget-view+json": {
       "model_id": "b3b67ae6b307431e8c55e8dcf87e5b0f",
       "version_major": 2,
       "version_minor": 0
      },
      "text/plain": [
       "Validating: 0it [00:00, ?it/s]"
      ]
     },
     "metadata": {},
     "output_type": "display_data"
    },
    {
     "data": {
      "application/vnd.jupyter.widget-view+json": {
       "model_id": "f20bb3a4a6d746729e6f22ba4659ca83",
       "version_major": 2,
       "version_minor": 0
      },
      "text/plain": [
       "Validating: 0it [00:00, ?it/s]"
      ]
     },
     "metadata": {},
     "output_type": "display_data"
    },
    {
     "data": {
      "application/vnd.jupyter.widget-view+json": {
       "model_id": "47d141ed087f4250925151af18efc8ac",
       "version_major": 2,
       "version_minor": 0
      },
      "text/plain": [
       "Validating: 0it [00:00, ?it/s]"
      ]
     },
     "metadata": {},
     "output_type": "display_data"
    },
    {
     "data": {
      "application/vnd.jupyter.widget-view+json": {
       "model_id": "68be534375e14cef981d58a7b4b2e435",
       "version_major": 2,
       "version_minor": 0
      },
      "text/plain": [
       "Validating: 0it [00:00, ?it/s]"
      ]
     },
     "metadata": {},
     "output_type": "display_data"
    },
    {
     "data": {
      "application/vnd.jupyter.widget-view+json": {
       "model_id": "9ec920665bcd43dd9b2eacfac8affbf5",
       "version_major": 2,
       "version_minor": 0
      },
      "text/plain": [
       "Validating: 0it [00:00, ?it/s]"
      ]
     },
     "metadata": {},
     "output_type": "display_data"
    },
    {
     "data": {
      "application/vnd.jupyter.widget-view+json": {
       "model_id": "2d8b8b39a71343be9185769abd6625f1",
       "version_major": 2,
       "version_minor": 0
      },
      "text/plain": [
       "Validating: 0it [00:00, ?it/s]"
      ]
     },
     "metadata": {},
     "output_type": "display_data"
    },
    {
     "data": {
      "application/vnd.jupyter.widget-view+json": {
       "model_id": "c14a5c48af924952a733dc9bc6008a7f",
       "version_major": 2,
       "version_minor": 0
      },
      "text/plain": [
       "Validating: 0it [00:00, ?it/s]"
      ]
     },
     "metadata": {},
     "output_type": "display_data"
    },
    {
     "data": {
      "application/vnd.jupyter.widget-view+json": {
       "model_id": "2e1097ab75ee4e2e952e0bb81ff6b31a",
       "version_major": 2,
       "version_minor": 0
      },
      "text/plain": [
       "Validating: 0it [00:00, ?it/s]"
      ]
     },
     "metadata": {},
     "output_type": "display_data"
    },
    {
     "data": {
      "application/vnd.jupyter.widget-view+json": {
       "model_id": "e722767ef4b84a79b346565cfa06fa34",
       "version_major": 2,
       "version_minor": 0
      },
      "text/plain": [
       "Validating: 0it [00:00, ?it/s]"
      ]
     },
     "metadata": {},
     "output_type": "display_data"
    },
    {
     "data": {
      "application/vnd.jupyter.widget-view+json": {
       "model_id": "a111d92a55ae4b6fb34c7bdf77576dac",
       "version_major": 2,
       "version_minor": 0
      },
      "text/plain": [
       "Validating: 0it [00:00, ?it/s]"
      ]
     },
     "metadata": {},
     "output_type": "display_data"
    },
    {
     "data": {
      "application/vnd.jupyter.widget-view+json": {
       "model_id": "366890a9c84d469f93ccf37dd5fe2dd1",
       "version_major": 2,
       "version_minor": 0
      },
      "text/plain": [
       "Validating: 0it [00:00, ?it/s]"
      ]
     },
     "metadata": {},
     "output_type": "display_data"
    },
    {
     "data": {
      "application/vnd.jupyter.widget-view+json": {
       "model_id": "db6c3449b7ae4abeb715f700de0a9210",
       "version_major": 2,
       "version_minor": 0
      },
      "text/plain": [
       "Validating: 0it [00:00, ?it/s]"
      ]
     },
     "metadata": {},
     "output_type": "display_data"
    },
    {
     "name": "stdout",
     "output_type": "stream",
     "text": [
      "(tensor([[[-0.9189, -0.8922, -0.5659,  ..., -0.2792, -0.2584, -0.2616],\n",
      "         [-0.8555, -0.8536, -0.6091,  ..., -0.2078, -0.1018, -0.2344],\n",
      "         [-0.9134, -0.9355, -0.6663,  ..., -0.0600, -0.0291, -0.2315],\n",
      "         ...,\n",
      "         [-0.6718, -0.6335, -0.6614,  ...,  0.0133, -0.0293, -0.0210],\n",
      "         [-0.6879, -0.6485, -0.6474,  ...,  0.0070, -0.0176, -0.0232],\n",
      "         [-0.6846, -0.6740, -0.6747,  ..., -0.0227,  0.0217, -0.0320]]]), 0.0, 'eccd4c99-6fdd-4bab-b115')\n"
     ]
    },
    {
     "data": {
      "application/vnd.jupyter.widget-view+json": {
       "model_id": "ff41ea0441ce4304a720dda432c57a1d",
       "version_major": 2,
       "version_minor": 0
      },
      "text/plain": [
       "Testing: 0it [00:00, ?it/s]"
      ]
     },
     "metadata": {},
     "output_type": "display_data"
    },
    {
     "name": "stdout",
     "output_type": "stream",
     "text": [
      "--------------------------------------------------------------------------------\n",
      "DATALOADER:0 TEST RESULTS\n",
      "{'test_epoch_end_accuracy': 0.879807710647583,\n",
      " 'test_epoch_end_loss': 0.30252835154533386}\n",
      "--------------------------------------------------------------------------------\n"
     ]
    },
    {
     "data": {
      "text/html": [
       "<br/>Waiting for W&B process to finish, PID 44073<br/>Program ended successfully."
      ],
      "text/plain": [
       "<IPython.core.display.HTML object>"
      ]
     },
     "metadata": {},
     "output_type": "display_data"
    },
    {
     "data": {
      "application/vnd.jupyter.widget-view+json": {
       "model_id": "14dd95c9888b4290ba60cfee98530919",
       "version_major": 2,
       "version_minor": 0
      },
      "text/plain": [
       "VBox(children=(Label(value=' 0.00MB of 0.00MB uploaded (0.00MB deduped)\\r'), FloatProgress(value=1.0, max=1.0)…"
      ]
     },
     "metadata": {},
     "output_type": "display_data"
    },
    {
     "data": {
      "text/html": [
       "Find user logs for this run at: <code>/data/home/utworzyd/praca_inz/wandb/run-20210310_142653-anhxf6n3/logs/debug.log</code>"
      ],
      "text/plain": [
       "<IPython.core.display.HTML object>"
      ]
     },
     "metadata": {},
     "output_type": "display_data"
    },
    {
     "data": {
      "text/html": [
       "Find internal logs for this run at: <code>/data/home/utworzyd/praca_inz/wandb/run-20210310_142653-anhxf6n3/logs/debug-internal.log</code>"
      ],
      "text/plain": [
       "<IPython.core.display.HTML object>"
      ]
     },
     "metadata": {},
     "output_type": "display_data"
    },
    {
     "data": {
      "text/html": [
       "<h3>Run summary:</h3><br/><style>\n",
       "    table.wandb td:nth-child(1) { padding: 0 10px; text-align: right }\n",
       "    </style><table class=\"wandb\">\n",
       "<tr><td>train_loss_step</td><td>0.30504</td></tr><tr><td>train_acc_step</td><td>0.875</td></tr><tr><td>epoch</td><td>24</td></tr><tr><td>_runtime</td><td>610</td></tr><tr><td>_timestamp</td><td>1615383423</td></tr><tr><td>_step</td><td>9999</td></tr><tr><td>train_loss_epoch</td><td>0.22562</td></tr><tr><td>train_acc_epoch</td><td>0.90453</td></tr><tr><td>training_epoch_end_accuracy</td><td>0.90453</td></tr><tr><td>training_epoch_end_loss</td><td>0.22562</td></tr><tr><td>lr</td><td>4e-05</td></tr><tr><td>validation_epoch_end_accuracy</td><td>0.88898</td></tr><tr><td>validation_epoch_end_loss</td><td>0.28682</td></tr><tr><td>test_epoch_end_accuracy</td><td>0.87981</td></tr><tr><td>test_epoch_end_loss</td><td>0.30253</td></tr></table>"
      ],
      "text/plain": [
       "<IPython.core.display.HTML object>"
      ]
     },
     "metadata": {},
     "output_type": "display_data"
    },
    {
     "data": {
      "text/html": [
       "<h3>Run history:</h3><br/><style>\n",
       "    table.wandb td:nth-child(1) { padding: 0 10px; text-align: right }\n",
       "    </style><table class=\"wandb\">\n",
       "<tr><td>train_loss_step</td><td>█▄▄█▃▃▆▄▃▂▃▅▃▄▄▅▂▅▃▃▂▃▃▄▂▄▁▂▃▂▂▂▄▃▂▁▂▂▂▃</td></tr><tr><td>train_acc_step</td><td>▂▇▅▁▆▅▂▆▃▇▇▂▆▆▆▇▆▃▅▆▇▆▂▇▆▅▆█▃▆▆▇▃▂▇█▇▅▆▆</td></tr><tr><td>epoch</td><td>▁▁▁▁▂▂▂▂▂▂▃▃▃▃▃▄▄▄▄▅▅▅▅▅▅▆▆▆▆▆▇▇▇▇▇▇████</td></tr><tr><td>_runtime</td><td>▁▁▁▂▂▂▂▂▂▃▃▃▃▃▄▄▄▄▄▄▅▅▅▅▅▆▆▆▆▆▆▇▇▇▇▇████</td></tr><tr><td>_timestamp</td><td>▁▁▁▂▂▂▂▂▂▃▃▃▃▃▄▄▄▄▄▄▅▅▅▅▅▆▆▆▆▆▆▇▇▇▇▇████</td></tr><tr><td>_step</td><td>▁▁▁▁▁▁▂▂▂▂▂▂▂▂▂▂▂▃▃▃▃▃▃▃▃▃▃▃▃▄▄▄▄▄▄▄▄▄▄█</td></tr><tr><td>train_loss_epoch</td><td>█▅▅▄▄▃▄▃▃▃▃▃▃▂▂▂▁▂▁▁▁▁▁▁▁</td></tr><tr><td>train_acc_epoch</td><td>▁▄▄▅▅▅▅▅▆▆▆▆▆▆▇▇▇▇█▇▇▇███</td></tr><tr><td>training_epoch_end_accuracy</td><td>▁▄▄▅▅▅▅▅▆▆▆▆▆▆▇▇▇▇█▇▇▇███</td></tr><tr><td>training_epoch_end_loss</td><td>█▅▅▄▄▃▄▃▃▃▃▃▃▂▂▂▁▂▁▁▁▁▁▁▁</td></tr><tr><td>lr</td><td>███████████████▂▂▂▂▂▂▂▁▁▁</td></tr><tr><td>validation_epoch_end_accuracy</td><td>▁▅▃▆▆▅▆▆▇▆▄▆▆▇▇▇▇█▇▇█████</td></tr><tr><td>validation_epoch_end_loss</td><td>█▃▄▂▂▃▁▂▁▁▃▁▁▁▁▁▂▁▂▂▂▁▁▁▁</td></tr><tr><td>test_epoch_end_accuracy</td><td>▁</td></tr><tr><td>test_epoch_end_loss</td><td>▁</td></tr></table><br/>"
      ],
      "text/plain": [
       "<IPython.core.display.HTML object>"
      ]
     },
     "metadata": {},
     "output_type": "display_data"
    },
    {
     "data": {
      "text/html": [
       "Synced 5 W&B file(s), 0 media file(s), 0 artifact file(s) and 1 other file(s)"
      ],
      "text/plain": [
       "<IPython.core.display.HTML object>"
      ]
     },
     "metadata": {},
     "output_type": "display_data"
    },
    {
     "data": {
      "text/html": [
       "\n",
       "                    <br/>Synced <strong style=\"color:#cdcd00\">misty-flower-3</strong>: <a href=\"https://wandb.ai/ulatwo/Warblr-NeuralNetwork/runs/anhxf6n3\" target=\"_blank\">https://wandb.ai/ulatwo/Warblr-NeuralNetwork/runs/anhxf6n3</a><br/>\n",
       "                "
      ],
      "text/plain": [
       "<IPython.core.display.HTML object>"
      ]
     },
     "metadata": {},
     "output_type": "display_data"
    }
   ],
   "source": [
    "\n",
    "wandb_logger = WandbLogger(project=\"Warblr-NeuralNetwork\")\n",
    "\n",
    "# przykładowe ścieżki:\n",
    "csv_path= './warblrb10k_public_metadata.csv'\n",
    "file_path='./WarblrNew/wav'\n",
    "\n",
    "#batch_size ~ 32, 64 [32-128] to standard\n",
    "batch_size = 32\n",
    "\n",
    "#num_workers = 24 if cpu\n",
    "num_workers = 24\n",
    "\n",
    "\n",
    "# z ograniczeniem epok:\n",
    "trainer = pl.Trainer(\n",
    "    logger = wandb_logger,  #W&B integration\n",
    "    log_every_n_steps = 50, #set the logging frequency\n",
    "    max_epochs=25,           #number of epochs  \n",
    "    gpus =[0],\n",
    "    progress_bar_refresh_rate=50\n",
    ")\n",
    "\n",
    "birdvox_dm = WarblrDataModule(csv_path, file_path, batch_size, num_workers)\n",
    "model = CNN_Audio_Model()\n",
    "\n",
    "trainer.fit(model, birdvox_dm)\n",
    "trainer.save_checkpoint(\"W_model_25e_vallist.ckpt\")\n",
    "\n",
    "result = trainer.test(model)\n",
    "\n",
    "# print('validation_wrong_classified',model.validation_wrong_classified)\n",
    "# print(' ')\n",
    "# print('\\n\\n przedlast_epoch_of_validation: ', model.validation_wrong_classified[-2])\n",
    "# print(' ')\n",
    "# print('\\n\\n last_epoch_of_validation: ', model.validation_wrong_classified[-1])\n",
    "# print(result)\n",
    "wandb.finish()\n",
    "\n",
    "# zwykły sposób na zapis tego i odczytanie z pliku\n",
    "with open('W_wrong_classified_validation_file_names_25e.txt', 'w') as filehandle:\n",
    "    for listitem in model.validation_wrong_classified[-1]:\n",
    "        filehandle.write('%s\\n' % listitem)"
   ]
  },
  {
   "cell_type": "code",
   "execution_count": 26,
   "id": "super-karaoke",
   "metadata": {},
   "outputs": [],
   "source": [
    "places = []\n",
    "with open('wrong_classified_validation_file_names.txt', 'r') as filehandle:\n",
    "    for line in filehandle:\n",
    "        # remove linebreak which is the last character of the string\n",
    "        currentPlace = line[:-1]\n",
    "\n",
    "        # add item to the list\n",
    "        places.append(currentPlace)"
   ]
  }
 ],
 "metadata": {
  "kernelspec": {
   "display_name": "Python 3",
   "language": "python",
   "name": "python3"
  },
  "language_info": {
   "codemirror_mode": {
    "name": "ipython",
    "version": 3
   },
   "file_extension": ".py",
   "mimetype": "text/x-python",
   "name": "python",
   "nbconvert_exporter": "python",
   "pygments_lexer": "ipython3",
   "version": "3.8.5"
  }
 },
 "nbformat": 4,
 "nbformat_minor": 5
}
