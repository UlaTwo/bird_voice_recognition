{
 "cells": [
  {
   "cell_type": "code",
   "execution_count": 1,
   "id": "introductory-ebony",
   "metadata": {},
   "outputs": [
    {
     "name": "stderr",
     "output_type": "stream",
     "text": [
      "/home/utworzyd/miniconda3/envs/pytorch_2/lib/python3.8/site-packages/torchaudio/backend/utils.py:53: UserWarning: \"sox\" backend is being deprecated. The default backend will be changed to \"sox_io\" backend in 0.8.0 and \"sox\" backend will be removed in 0.9.0. Please migrate to \"sox_io\" backend. Please refer to https://github.com/pytorch/audio/issues/903 for the detail.\n",
      "  warnings.warn(\n"
     ]
    }
   ],
   "source": [
    "import torch\n",
    "from torch.nn import functional as F\n",
    "from torch.utils.data import DataLoader, random_split, Dataset, IterableDataset\n",
    "from torchvision import transforms, datasets\n",
    "import pytorch_lightning as pl\n",
    "import pandas as pd\n",
    "import numpy as np\n",
    "\n",
    "import torchaudio\n",
    "\n",
    "import wandb\n",
    "from pytorch_lightning.loggers import WandbLogger"
   ]
  },
  {
   "cell_type": "code",
   "execution_count": 2,
   "id": "average-luxury",
   "metadata": {},
   "outputs": [
    {
     "name": "stderr",
     "output_type": "stream",
     "text": [
      "\u001b[34m\u001b[1mwandb\u001b[0m: Currently logged in as: \u001b[33mulatwo\u001b[0m (use `wandb login --relogin` to force relogin)\n"
     ]
    },
    {
     "data": {
      "text/plain": [
       "True"
      ]
     },
     "execution_count": 2,
     "metadata": {},
     "output_type": "execute_result"
    }
   ],
   "source": [
    "wandb.login()"
   ]
  },
  {
   "cell_type": "markdown",
   "id": "advance-crime",
   "metadata": {},
   "source": [
    "# Dataset Module"
   ]
  },
  {
   "cell_type": "code",
   "execution_count": 3,
   "id": "compact-effect",
   "metadata": {},
   "outputs": [],
   "source": [
    "\n",
    "class BirdVoxDataset(Dataset):\n",
    "\n",
    "    # Argument list\n",
    "    # path to the BirdVox-20k csv file\n",
    "    # path to the BirdVox-20k audio files\n",
    "    \n",
    "    def __init__(self, csv_path_B,file_path_B,csv_path_F,file_path_F):\n",
    "        \n",
    "        csvDataB = pd.read_csv(csv_path_B,dtype = {'hasbird':np.float32})\n",
    "        csvDataF = pd.read_csv(csv_path_F,dtype = {'itemid': 'string','hasbird':np.float32})\n",
    "        csvData= csvDataB + csvDataF\n",
    "        csvData = pd.concat([csvDataB,csvDataF])\n",
    "        print(csvDataB)\n",
    "        print(csvDataF)\n",
    "        print(csvData)\n",
    "        self.file_names = []\n",
    "        self.labels = []\n",
    "        \n",
    "        for i in range( 0,len(csvData) ):\n",
    "            self.file_names.append(csvData.iloc[i,0])\n",
    "            self.labels.append(csvData.iloc[i,2])\n",
    "            \n",
    "        #tutaj label na float    \n",
    "        self.file_path_B = file_path_B\n",
    "        self.file_path_F = file_path_F\n",
    "        self.lenghtB = csvDataB.size/3\n",
    "        \n",
    "        print(\"Uwaga! Sprawdzenie rozmiaru BirdVoxa: \", self.lenghtB)\n",
    "        self.mel_spectogram = torchaudio.transforms.MelSpectrogram(sample_rate=44100,n_fft=1261, n_mels=80, \n",
    "                                                                   window_fn=torch.hamming_window,\n",
    "                                                                   f_min=50, f_max = 12000)\n",
    "        self.amplitude_to_db = torchaudio.transforms.AmplitudeToDB()\n",
    "        \n",
    "        self.resize = transforms.Resize((80,700))\n",
    "        self.cropp = transforms.CenterCrop((80,700))\n",
    "        \n",
    "    \n",
    "    def __len__(self):\n",
    "        \n",
    "        return len(self.file_names)\n",
    "    \n",
    "    def __getitem__(self, index):\n",
    "        \n",
    "        if index < self.lenghtB :\n",
    "            path = self.file_path_B+\"/\"+self.file_names[index]+\".wav\"\n",
    "        else:\n",
    "            path = self.file_path_F+\"/\"+self.file_names[index]+\".wav\"\n",
    "        \n",
    "#         print(path)\n",
    "        #Load audio file into torch.Tensor object. \n",
    "        waveform, sample_rate = torchaudio.load(path)\n",
    "        # utworzenie Mal Spektogramu\n",
    "        specgram = self.mel_spectogram(waveform)\n",
    "        \n",
    "        #uwaga! To nie jest za ładne miejsce - możnaby rozwiązać ten problem inaczej chyba\n",
    "        if specgram.size()[2]<700:\n",
    "            specgram  = self.resize(specgram)\n",
    "        else:\n",
    "            specgram  = self.cropp(specgram)\n",
    "            \n",
    "        # transformacja za skali amplitud do decybeli\n",
    "        transformedAmpToDB = self.amplitude_to_db(specgram)\n",
    "\n",
    "        # normalizacja\n",
    "        tensor_minusmean = transformedAmpToDB - transformedAmpToDB.mean()\n",
    "        soundFormatted = tensor_minusmean/tensor_minusmean.abs().max()\n",
    "\n",
    "        return soundFormatted,self.labels[index], self.file_names[index]"
   ]
  },
  {
   "cell_type": "code",
   "execution_count": 4,
   "id": "printable-onion",
   "metadata": {},
   "outputs": [],
   "source": [
    "class BirdVoxDataModule(pl.LightningDataModule):\n",
    "    \n",
    "    def __init__(self, csv_path_B, file_path_B,csv_path_F, file_path_F, batch_size, num_workers):\n",
    "        super().__init__()\n",
    "        self.batch_size = batch_size\n",
    "        self.csv_path_B = csv_path_B\n",
    "        self.file_path_B = file_path_B\n",
    "        self.csv_path_F = csv_path_F\n",
    "        self.file_path_F = file_path_F\n",
    "        \n",
    "        self.num_workers = num_workers\n",
    "    \n",
    "    def setup(self, stage=None):\n",
    "        birdvox_dataset = BirdVoxDataset(self.csv_path_B, self.file_path_B,self.csv_path_F, self.file_path_F)\n",
    "        self.train_set, self.val_set, self.test_set = torch.utils.data.random_split(birdvox_dataset, [22152,4154,1384], generator=torch.Generator().manual_seed(42))\n",
    "        print(self.val_set[0])\n",
    "\n",
    "    def train_dataloader(self):\n",
    "        return DataLoader(self.train_set, batch_size = self.batch_size, num_workers= self.num_workers)\n",
    "    \n",
    "    def val_dataloader(self):\n",
    "        return DataLoader(self.val_set, batch_size = self.batch_size, num_workers= self.num_workers)\n",
    "\n",
    "    def test_dataloader(self):\n",
    "        return DataLoader(self.test_set, batch_size = self.batch_size, num_workers= self.num_workers) \n",
    "    "
   ]
  },
  {
   "cell_type": "markdown",
   "id": "stunning-cleaners",
   "metadata": {},
   "source": [
    "# opis sieci\n",
    "##### Input -700x80x1\n",
    "##### Convolution (3x3) -698x78x16\n",
    "##### Pool (3x3) -232x26x16\n",
    "        \n",
    "##### Convolution (3x3) -230x24x16\n",
    "##### Pool (3x3) -76x8x16\n",
    "        \n",
    "##### Convolution (3x3) -74x6x16\n",
    "##### Pool (3x1) -24x6x16\n",
    "        \n",
    "##### Convolution (3x3) -22x4x16\n",
    "##### Pool (3x1)-7x4x16\n",
    "        \n",
    "##### Dense (256) -256\n",
    "##### Dense (32) -32\n",
    "##### Dense (1) -1"
   ]
  },
  {
   "cell_type": "code",
   "execution_count": 5,
   "id": "inside-transfer",
   "metadata": {},
   "outputs": [],
   "source": [
    "class CNN_Audio_Model(pl.LightningModule):\n",
    "    def __init__(self):\n",
    "        super().__init__()\n",
    "        \n",
    "        #convolution layers\n",
    "        self.layer1 = torch.nn.Sequential(torch.nn.Conv2d(1,16,kernel_size=3),\n",
    "                                          torch.nn.BatchNorm2d(16),\n",
    "                                          torch.nn.LeakyReLU(0.001),\n",
    "                                          torch.nn.MaxPool2d((3,3)) )\n",
    "        \n",
    "        self.layer2 = torch.nn.Sequential(torch.nn.Conv2d(16,16,kernel_size=3),\n",
    "                                          torch.nn.BatchNorm2d(16),\n",
    "                                          torch.nn.LeakyReLU(0.001),\n",
    "                                          torch.nn.MaxPool2d((3,3)) )\n",
    "        \n",
    "        self.layer3 = torch.nn.Sequential(torch.nn.Conv2d(16,16,kernel_size=3),\n",
    "                                          torch.nn.BatchNorm2d(16),\n",
    "                                          torch.nn.LeakyReLU(0.001),\n",
    "                                          torch.nn.MaxPool2d((1,3)))\n",
    "\n",
    "        self.layer4 = torch.nn.Sequential(torch.nn.Conv2d(16,16,kernel_size=3),\n",
    "                                          torch.nn.BatchNorm2d(16),\n",
    "                                          torch.nn.LeakyReLU(0.001),\n",
    "                                          torch.nn.MaxPool2d((1,3)),\n",
    "                                          torch.nn.Flatten())\n",
    "        \n",
    "        #dense layers\n",
    "        self.dropout = torch.nn.Dropout()\n",
    "        self.fc1 = torch.nn.Linear(7*4*16,256)\n",
    "        self.batch1 = torch.nn.BatchNorm1d(256) \n",
    "        self.leakyReLU = torch.nn.LeakyReLU(0.001)\n",
    "        \n",
    "        self.fc2 = torch.nn.Linear(256,32)\n",
    "        self.batch2 = torch.nn.BatchNorm1d(32) #i na tym leakyRelu\n",
    "        \n",
    "        self.fc3 = torch.nn.Linear(32,1) #i na tym sigmoid\n",
    "        self.sigmoid = torch.nn.Sigmoid()\n",
    "        \n",
    "        self.flatten = torch.nn.Flatten(start_dim=0)\n",
    "        \n",
    "        # compute the accuracy -- no need to roll your own!\n",
    "        self.train_acc = pl.metrics.Accuracy()\n",
    "        self.valid_acc = pl.metrics.Accuracy()\n",
    "        self.test_acc = pl.metrics.Accuracy()\n",
    "        \n",
    "        self.validation_wrong_classified = []\n",
    "        self.validation_wrong_classified_epoch = []\n",
    "        \n",
    "        \n",
    "    def forward(self,x):\n",
    "        \n",
    "        #convolution layers\n",
    "        x=self.layer1(x)\n",
    "        x=self.layer2(x)\n",
    "        x=self.layer3(x)\n",
    "        x=self.layer4(x)\n",
    "\n",
    "        #dense layers\n",
    "        x=self.dropout(x)\n",
    "        x=self.fc1(x)\n",
    "        x=self.batch1(x)\n",
    "        x=self.leakyReLU(x)\n",
    "        \n",
    "        x=self.dropout(x)\n",
    "        x=self.fc2(x)\n",
    "        x=self.batch2(x)\n",
    "        x=self.leakyReLU(x)\n",
    "        \n",
    "        x=self.dropout(x)\n",
    "        \n",
    "        x=self.fc3(x)\n",
    "        \n",
    "        x = self.sigmoid(x)\n",
    "        \n",
    "        #PYTANIE: czy to tutaj może być, czy jest to problem jednak?\n",
    "        #problematyczny shape tensora dla cross_entropy, dlatego reshape\n",
    "        #był: tensor([[0.4876], ... , [0.4875]]) po: tensor([0.4876, ... ,0.4875])\n",
    "        # reshape na flatten\n",
    "        x=self.flatten(x)\n",
    "        return x\n",
    "    \n",
    "    #z artykułu: The network is trained on binary cross entropy loss using accuracy as a metric.\n",
    "    def cross_entropy_loss(self, logits, labels):\n",
    "        return F.binary_cross_entropy(logits, labels)\n",
    "\n",
    "    def training_step(self, train_batch, batch_idx):\n",
    "        x, y, f = train_batch\n",
    "        logits = self.forward(x)\n",
    "        loss = self.cross_entropy_loss(logits, y)\n",
    "        \n",
    "        self.log('train_loss', loss, on_epoch=True, sync_dist=True)\n",
    "        \n",
    "        y = y.int()\n",
    "        accuracy = self.train_acc(logits, y)\n",
    "        self.log('train_acc', self.train_acc, on_epoch=True, sync_dist=True)\n",
    "        \n",
    "        return {'loss': loss, 'accuracy': accuracy}\n",
    "\n",
    "    def validation_step(self, val_batch, batch_idx):\n",
    "        x, y, f = val_batch\n",
    "        logits = self.forward(x)\n",
    "        loss = self.cross_entropy_loss(logits, y)\n",
    "#         print('names: ', f)\n",
    "#         print('logits: ', logits)\n",
    "#         print('y: ',y)\n",
    "#         print('loss: ', loss)\n",
    "        y = y.int()\n",
    "        accuracy = self.valid_acc(logits, y)\n",
    "#         print('accuracy: ',accuracy)\n",
    "        \n",
    "        list_file_names = []\n",
    "        #trochę na wprost tworzenie listy tych nagrań, które zostały źle zaklasyfikowane\n",
    "        for id in range(len(f)):\n",
    "            if round(float(logits[id])) != y[id]:\n",
    "                self.validation_wrong_classified_epoch.append(f[id])\n",
    "                \n",
    "        return {'val_loss': loss, 'val_accuracy': accuracy}\n",
    "\n",
    "    def test_step(self, test_batch, batch_idx):\n",
    "        x, y, f = test_batch\n",
    "        logits = self.forward(x)\n",
    "        loss = self.cross_entropy_loss(logits, y)\n",
    "        y = y.int()\n",
    "        accuracy = self.test_acc(logits, y)\n",
    "        \n",
    "        return {'test_loss': loss, 'test_accuracy': accuracy}\n",
    "    \n",
    "    \n",
    "    def training_epoch_end(self, outputs):\n",
    "        \n",
    "        avg_loss = torch.stack([x['loss'] for x in outputs]).mean()\n",
    "        avg_accuracy = torch.stack([x['accuracy'] for x in outputs]).mean()\n",
    "\n",
    "        self.log('training_epoch_end_accuracy', avg_accuracy, sync_dist=True)\n",
    "        self.log('training_epoch_end_loss', avg_loss, sync_dist=True)\n",
    "        self.log('lr', self.optimizers().param_groups[0]['lr'], sync_dist=True)\n",
    "    \n",
    "    def validation_epoch_end(self, outputs):\n",
    "        avg_loss = torch.stack([x['val_loss'] for x in outputs]).mean()\n",
    "        avg_accuracy = torch.stack([x['val_accuracy'] for x in outputs]).mean()\n",
    "            \n",
    "        self.log('validation_epoch_end_accuracy', avg_accuracy, sync_dist=True)\n",
    "        self.log('validation_epoch_end_loss', avg_loss, sync_dist=True)\n",
    "        self.validation_wrong_classified.append(self.validation_wrong_classified_epoch.copy())\n",
    "        self.validation_wrong_classified_epoch.clear()\n",
    "\n",
    "    def test_epoch_end(self, outputs):\n",
    "        avg_loss = torch.stack([x['test_loss'] for x in outputs]).mean()\n",
    "        avg_accuracy = torch.stack([x['test_accuracy'] for x in outputs]).mean()\n",
    "        \n",
    "        self.log('test_epoch_end_accuracy', avg_accuracy, sync_dist=True)\n",
    "        self.log('test_epoch_end_loss', avg_loss, sync_dist=True)\n",
    "\n",
    "    #według artykułu: For training,ADAM optimizer is used with an initial learning rate of 0.001. \n",
    "    # ! The learning rate was reduced by a factor of 0.2 if there was no improvement in validation accuracy \n",
    "    #over five consecutive epochs.\n",
    "    \n",
    "    def configure_optimizers(self):\n",
    "        optimizer = torch.optim.Adam(self.parameters(), lr=1e-3)\n",
    "        lr_scheduler = torch.optim.lr_scheduler.ReduceLROnPlateau(optimizer, mode = 'min', factor = 0.2, patience = 5)\n",
    "        return {\n",
    "            'optimizer': optimizer,\n",
    "            'lr_scheduler': lr_scheduler,\n",
    "            'monitor': 'validation_epoch_end_loss'\n",
    "        }"
   ]
  },
  {
   "cell_type": "code",
   "execution_count": 7,
   "id": "promising-computer",
   "metadata": {},
   "outputs": [
    {
     "name": "stderr",
     "output_type": "stream",
     "text": [
      "GPU available: True, used: False\n",
      "TPU available: None, using: 0 TPU cores\n",
      "/home/utworzyd/miniconda3/envs/pytorch_2/lib/python3.8/site-packages/pytorch_lightning/utilities/distributed.py:50: UserWarning: GPU available but not used. Set the --gpus flag when calling the script.\n",
      "  warnings.warn(*args, **kwargs)\n"
     ]
    },
    {
     "name": "stdout",
     "output_type": "stream",
     "text": [
      "                                     itemid          datasetid  hasbird\n",
      "0      00053d90-e4b9-4045-a2f1-f39efc90cfa9  BirdVox-DCASE-20k      1.0\n",
      "1      000db435-a40f-4ad9-a74e-d1af284d2c44  BirdVox-DCASE-20k      0.0\n",
      "2      001059c0-e04f-42fc-a8e2-11aad24dc6fb  BirdVox-DCASE-20k      1.0\n",
      "3      00106202-f61e-467d-a80f-070d90421952  BirdVox-DCASE-20k      0.0\n",
      "4      00129593-77ca-40b2-a512-75d178071250  BirdVox-DCASE-20k      0.0\n",
      "...                                     ...                ...      ...\n",
      "19995  fff12db0-9cbe-4155-ac4a-b0b88d84c1d7  BirdVox-DCASE-20k      0.0\n",
      "19996  fff78736-b90a-498e-a18d-a27cd3b83578  BirdVox-DCASE-20k      0.0\n",
      "19997  fff80e7a-7913-4a58-ab9b-4facffe04e56  BirdVox-DCASE-20k      0.0\n",
      "19998  fff847f3-fcfe-43b6-a7c2-85cd84a05cee  BirdVox-DCASE-20k      0.0\n",
      "19999  fffda998-2df9-4055-ab82-2e16b95338a7  BirdVox-DCASE-20k      0.0\n",
      "\n",
      "[20000 rows x 3 columns]\n",
      "      itemid   datasetid  hasbird\n",
      "0      64486  ff1010bird      0.0\n",
      "1       2525  ff1010bird      0.0\n",
      "2      44981  ff1010bird      0.0\n",
      "3     101323  ff1010bird      0.0\n",
      "4     165746  ff1010bird      0.0\n",
      "...      ...         ...      ...\n",
      "7685  168059  ff1010bird      0.0\n",
      "7686  164922  ff1010bird      0.0\n",
      "7687   80789  ff1010bird      1.0\n",
      "7688  104733  ff1010bird      1.0\n",
      "7689   40565  ff1010bird      0.0\n",
      "\n",
      "[7690 rows x 3 columns]\n",
      "                                    itemid          datasetid  hasbird\n",
      "0     00053d90-e4b9-4045-a2f1-f39efc90cfa9  BirdVox-DCASE-20k      1.0\n",
      "1     000db435-a40f-4ad9-a74e-d1af284d2c44  BirdVox-DCASE-20k      0.0\n",
      "2     001059c0-e04f-42fc-a8e2-11aad24dc6fb  BirdVox-DCASE-20k      1.0\n",
      "3     00106202-f61e-467d-a80f-070d90421952  BirdVox-DCASE-20k      0.0\n",
      "4     00129593-77ca-40b2-a512-75d178071250  BirdVox-DCASE-20k      0.0\n",
      "...                                    ...                ...      ...\n",
      "7685                                168059         ff1010bird      0.0\n",
      "7686                                164922         ff1010bird      0.0\n",
      "7687                                 80789         ff1010bird      1.0\n",
      "7688                                104733         ff1010bird      1.0\n",
      "7689                                 40565         ff1010bird      0.0\n",
      "\n",
      "[27690 rows x 3 columns]\n",
      "Uwaga! Sprawdzenie rozmiaru BirdVoxa:  20000.0\n",
      "(tensor([[[ 0.6904,  0.6645,  0.6392,  ...,  0.6683,  0.6889,  0.7259],\n",
      "         [ 0.3934,  0.2855,  0.2427,  ...,  0.2642,  0.2469,  0.3394],\n",
      "         [ 0.3350,  0.0692,  0.0848,  ...,  0.0519,  0.0399,  0.0704],\n",
      "         ...,\n",
      "         [-0.0038,  0.0760,  0.0441,  ..., -0.2805, -0.2597, -0.2642],\n",
      "         [-0.0402, -0.0768, -0.0747,  ..., -0.3143, -0.3404, -0.4325],\n",
      "         [-0.3506, -0.2854, -0.2544,  ..., -0.7082, -0.7058, -0.6046]]]), 0.0, '3f79c47a-6b61-4802-aeac-279890714235')\n"
     ]
    },
    {
     "name": "stderr",
     "output_type": "stream",
     "text": [
      "\u001b[34m\u001b[1mwandb\u001b[0m: wandb version 0.10.22 is available!  To upgrade, please run:\n",
      "\u001b[34m\u001b[1mwandb\u001b[0m:  $ pip install wandb --upgrade\n"
     ]
    },
    {
     "data": {
      "text/html": [
       "\n",
       "                Tracking run with wandb version 0.10.20<br/>\n",
       "                Syncing run <strong style=\"color:#cdcd00\">pious-grass-6</strong> to <a href=\"https://wandb.ai\" target=\"_blank\">Weights & Biases</a> <a href=\"https://docs.wandb.com/integrations/jupyter.html\" target=\"_blank\">(Documentation)</a>.<br/>\n",
       "                Project page: <a href=\"https://wandb.ai/ulatwo/birdVox%2BFreefield-NeuralNetwork\" target=\"_blank\">https://wandb.ai/ulatwo/birdVox%2BFreefield-NeuralNetwork</a><br/>\n",
       "                Run page: <a href=\"https://wandb.ai/ulatwo/birdVox%2BFreefield-NeuralNetwork/runs/1zcspfdw\" target=\"_blank\">https://wandb.ai/ulatwo/birdVox%2BFreefield-NeuralNetwork/runs/1zcspfdw</a><br/>\n",
       "                Run data is saved locally in <code>/data/home/utworzyd/praca_inz/wandb/run-20210316_232539-1zcspfdw</code><br/><br/>\n",
       "            "
      ],
      "text/plain": [
       "<IPython.core.display.HTML object>"
      ]
     },
     "metadata": {},
     "output_type": "display_data"
    },
    {
     "name": "stderr",
     "output_type": "stream",
     "text": [
      "\n",
      "   | Name      | Type        | Params\n",
      "-------------------------------------------\n",
      "0  | layer1    | Sequential  | 192   \n",
      "1  | layer2    | Sequential  | 2.4 K \n",
      "2  | layer3    | Sequential  | 2.4 K \n",
      "3  | layer4    | Sequential  | 2.4 K \n",
      "4  | dropout   | Dropout     | 0     \n",
      "5  | fc1       | Linear      | 114 K \n",
      "6  | batch1    | BatchNorm1d | 512   \n",
      "7  | leakyReLU | LeakyReLU   | 0     \n",
      "8  | fc2       | Linear      | 8.2 K \n",
      "9  | batch2    | BatchNorm1d | 64    \n",
      "10 | fc3       | Linear      | 33    \n",
      "11 | sigmoid   | Sigmoid     | 0     \n",
      "12 | flatten   | Flatten     | 0     \n",
      "13 | train_acc | Accuracy    | 0     \n",
      "14 | valid_acc | Accuracy    | 0     \n",
      "15 | test_acc  | Accuracy    | 0     \n",
      "-------------------------------------------\n",
      "131 K     Trainable params\n",
      "0         Non-trainable params\n",
      "131 K     Total params\n",
      "0.524     Total estimated model params size (MB)\n"
     ]
    },
    {
     "data": {
      "application/vnd.jupyter.widget-view+json": {
       "model_id": "545b067f82324845bca1874c32299226",
       "version_major": 2,
       "version_minor": 0
      },
      "text/plain": [
       "Validation sanity check: 0it [00:00, ?it/s]"
      ]
     },
     "metadata": {},
     "output_type": "display_data"
    },
    {
     "name": "stderr",
     "output_type": "stream",
     "text": [
      "/home/utworzyd/miniconda3/envs/pytorch_2/lib/python3.8/site-packages/pytorch_lightning/core/step_result.py:148: UserWarning: To copy construct from a tensor, it is recommended to use sourceTensor.clone().detach() or sourceTensor.clone().detach().requires_grad_(True), rather than torch.tensor(sourceTensor).\n",
      "  value = torch.tensor(value, device=device, dtype=torch.float)\n"
     ]
    },
    {
     "data": {
      "application/vnd.jupyter.widget-view+json": {
       "model_id": "bbd0bb2f46db4ac986db7041f61aaf26",
       "version_major": 2,
       "version_minor": 0
      },
      "text/plain": [
       "Training: 0it [00:00, ?it/s]"
      ]
     },
     "metadata": {},
     "output_type": "display_data"
    },
    {
     "data": {
      "application/vnd.jupyter.widget-view+json": {
       "model_id": "adb648379ae945b0b8d05475e25da91c",
       "version_major": 2,
       "version_minor": 0
      },
      "text/plain": [
       "Validating: 0it [00:00, ?it/s]"
      ]
     },
     "metadata": {},
     "output_type": "display_data"
    },
    {
     "data": {
      "application/vnd.jupyter.widget-view+json": {
       "model_id": "b5ce15e13e6a46dbbfcb68f58656383f",
       "version_major": 2,
       "version_minor": 0
      },
      "text/plain": [
       "Validating: 0it [00:00, ?it/s]"
      ]
     },
     "metadata": {},
     "output_type": "display_data"
    },
    {
     "data": {
      "application/vnd.jupyter.widget-view+json": {
       "model_id": "da970434343443fd879e0405a1438484",
       "version_major": 2,
       "version_minor": 0
      },
      "text/plain": [
       "Validating: 0it [00:00, ?it/s]"
      ]
     },
     "metadata": {},
     "output_type": "display_data"
    },
    {
     "data": {
      "application/vnd.jupyter.widget-view+json": {
       "model_id": "024eb38bdbf64b38894bf4b56af6745e",
       "version_major": 2,
       "version_minor": 0
      },
      "text/plain": [
       "Validating: 0it [00:00, ?it/s]"
      ]
     },
     "metadata": {},
     "output_type": "display_data"
    },
    {
     "data": {
      "application/vnd.jupyter.widget-view+json": {
       "model_id": "5b2d74b170d64f3181828a6e15aacedb",
       "version_major": 2,
       "version_minor": 0
      },
      "text/plain": [
       "Validating: 0it [00:00, ?it/s]"
      ]
     },
     "metadata": {},
     "output_type": "display_data"
    },
    {
     "data": {
      "application/vnd.jupyter.widget-view+json": {
       "model_id": "2ab34db8378a470a84888e9a05115b9e",
       "version_major": 2,
       "version_minor": 0
      },
      "text/plain": [
       "Validating: 0it [00:00, ?it/s]"
      ]
     },
     "metadata": {},
     "output_type": "display_data"
    },
    {
     "data": {
      "application/vnd.jupyter.widget-view+json": {
       "model_id": "017a7302bdf74c58938c6ea8325fc09a",
       "version_major": 2,
       "version_minor": 0
      },
      "text/plain": [
       "Validating: 0it [00:00, ?it/s]"
      ]
     },
     "metadata": {},
     "output_type": "display_data"
    },
    {
     "data": {
      "application/vnd.jupyter.widget-view+json": {
       "model_id": "26747f690a964c7c83a3b2dfe20f0226",
       "version_major": 2,
       "version_minor": 0
      },
      "text/plain": [
       "Validating: 0it [00:00, ?it/s]"
      ]
     },
     "metadata": {},
     "output_type": "display_data"
    },
    {
     "data": {
      "application/vnd.jupyter.widget-view+json": {
       "model_id": "12864e986cf4414c9d850e00c7922f43",
       "version_major": 2,
       "version_minor": 0
      },
      "text/plain": [
       "Validating: 0it [00:00, ?it/s]"
      ]
     },
     "metadata": {},
     "output_type": "display_data"
    },
    {
     "data": {
      "application/vnd.jupyter.widget-view+json": {
       "model_id": "77fc5de2f98441dfab58fc9caec6e567",
       "version_major": 2,
       "version_minor": 0
      },
      "text/plain": [
       "Validating: 0it [00:00, ?it/s]"
      ]
     },
     "metadata": {},
     "output_type": "display_data"
    },
    {
     "data": {
      "application/vnd.jupyter.widget-view+json": {
       "model_id": "78917ea5c0234bf59dfcfea92b13ecf8",
       "version_major": 2,
       "version_minor": 0
      },
      "text/plain": [
       "Validating: 0it [00:00, ?it/s]"
      ]
     },
     "metadata": {},
     "output_type": "display_data"
    },
    {
     "data": {
      "application/vnd.jupyter.widget-view+json": {
       "model_id": "f8c5823d65e346a8acb965acbc1e2c84",
       "version_major": 2,
       "version_minor": 0
      },
      "text/plain": [
       "Validating: 0it [00:00, ?it/s]"
      ]
     },
     "metadata": {},
     "output_type": "display_data"
    },
    {
     "data": {
      "application/vnd.jupyter.widget-view+json": {
       "model_id": "eb2fcc7355ad465cae1a27816993aa9c",
       "version_major": 2,
       "version_minor": 0
      },
      "text/plain": [
       "Validating: 0it [00:00, ?it/s]"
      ]
     },
     "metadata": {},
     "output_type": "display_data"
    },
    {
     "data": {
      "application/vnd.jupyter.widget-view+json": {
       "model_id": "dae751db912f467cbbed42735971f32d",
       "version_major": 2,
       "version_minor": 0
      },
      "text/plain": [
       "Validating: 0it [00:00, ?it/s]"
      ]
     },
     "metadata": {},
     "output_type": "display_data"
    },
    {
     "data": {
      "application/vnd.jupyter.widget-view+json": {
       "model_id": "ada9df92e33746ab87bbcf6d7c18a534",
       "version_major": 2,
       "version_minor": 0
      },
      "text/plain": [
       "Validating: 0it [00:00, ?it/s]"
      ]
     },
     "metadata": {},
     "output_type": "display_data"
    },
    {
     "data": {
      "application/vnd.jupyter.widget-view+json": {
       "model_id": "70f3cb3ffcfd40eebd651aa33c25cd8b",
       "version_major": 2,
       "version_minor": 0
      },
      "text/plain": [
       "Validating: 0it [00:00, ?it/s]"
      ]
     },
     "metadata": {},
     "output_type": "display_data"
    },
    {
     "data": {
      "application/vnd.jupyter.widget-view+json": {
       "model_id": "5fc51f17e58346d4a8524904ddc2e1a5",
       "version_major": 2,
       "version_minor": 0
      },
      "text/plain": [
       "Validating: 0it [00:00, ?it/s]"
      ]
     },
     "metadata": {},
     "output_type": "display_data"
    },
    {
     "data": {
      "application/vnd.jupyter.widget-view+json": {
       "model_id": "c0a85adb817c47bda644adeaf4613d21",
       "version_major": 2,
       "version_minor": 0
      },
      "text/plain": [
       "Validating: 0it [00:00, ?it/s]"
      ]
     },
     "metadata": {},
     "output_type": "display_data"
    },
    {
     "data": {
      "application/vnd.jupyter.widget-view+json": {
       "model_id": "313a119ac1f340ed89a50f8748834c50",
       "version_major": 2,
       "version_minor": 0
      },
      "text/plain": [
       "Validating: 0it [00:00, ?it/s]"
      ]
     },
     "metadata": {},
     "output_type": "display_data"
    },
    {
     "data": {
      "application/vnd.jupyter.widget-view+json": {
       "model_id": "70ef8c9577a4433bbe2cdc5802584449",
       "version_major": 2,
       "version_minor": 0
      },
      "text/plain": [
       "Validating: 0it [00:00, ?it/s]"
      ]
     },
     "metadata": {},
     "output_type": "display_data"
    },
    {
     "data": {
      "application/vnd.jupyter.widget-view+json": {
       "model_id": "70f48062ec81468abc4000145bb857dc",
       "version_major": 2,
       "version_minor": 0
      },
      "text/plain": [
       "Validating: 0it [00:00, ?it/s]"
      ]
     },
     "metadata": {},
     "output_type": "display_data"
    },
    {
     "data": {
      "application/vnd.jupyter.widget-view+json": {
       "model_id": "b8a8e1be26b54953a8d7064f3f8ac601",
       "version_major": 2,
       "version_minor": 0
      },
      "text/plain": [
       "Validating: 0it [00:00, ?it/s]"
      ]
     },
     "metadata": {},
     "output_type": "display_data"
    },
    {
     "data": {
      "application/vnd.jupyter.widget-view+json": {
       "model_id": "4edc555f31a3451b9b92d1b7519e4ab7",
       "version_major": 2,
       "version_minor": 0
      },
      "text/plain": [
       "Validating: 0it [00:00, ?it/s]"
      ]
     },
     "metadata": {},
     "output_type": "display_data"
    },
    {
     "data": {
      "application/vnd.jupyter.widget-view+json": {
       "model_id": "6972e30ed2c248c7a5121d131c334c65",
       "version_major": 2,
       "version_minor": 0
      },
      "text/plain": [
       "Validating: 0it [00:00, ?it/s]"
      ]
     },
     "metadata": {},
     "output_type": "display_data"
    },
    {
     "data": {
      "application/vnd.jupyter.widget-view+json": {
       "model_id": "8cc1e1794adb400598be32f9b5704c85",
       "version_major": 2,
       "version_minor": 0
      },
      "text/plain": [
       "Validating: 0it [00:00, ?it/s]"
      ]
     },
     "metadata": {},
     "output_type": "display_data"
    },
    {
     "name": "stdout",
     "output_type": "stream",
     "text": [
      "                                     itemid          datasetid  hasbird\n",
      "0      00053d90-e4b9-4045-a2f1-f39efc90cfa9  BirdVox-DCASE-20k      1.0\n",
      "1      000db435-a40f-4ad9-a74e-d1af284d2c44  BirdVox-DCASE-20k      0.0\n",
      "2      001059c0-e04f-42fc-a8e2-11aad24dc6fb  BirdVox-DCASE-20k      1.0\n",
      "3      00106202-f61e-467d-a80f-070d90421952  BirdVox-DCASE-20k      0.0\n",
      "4      00129593-77ca-40b2-a512-75d178071250  BirdVox-DCASE-20k      0.0\n",
      "...                                     ...                ...      ...\n",
      "19995  fff12db0-9cbe-4155-ac4a-b0b88d84c1d7  BirdVox-DCASE-20k      0.0\n",
      "19996  fff78736-b90a-498e-a18d-a27cd3b83578  BirdVox-DCASE-20k      0.0\n",
      "19997  fff80e7a-7913-4a58-ab9b-4facffe04e56  BirdVox-DCASE-20k      0.0\n",
      "19998  fff847f3-fcfe-43b6-a7c2-85cd84a05cee  BirdVox-DCASE-20k      0.0\n",
      "19999  fffda998-2df9-4055-ab82-2e16b95338a7  BirdVox-DCASE-20k      0.0\n",
      "\n",
      "[20000 rows x 3 columns]\n",
      "      itemid   datasetid  hasbird\n",
      "0      64486  ff1010bird      0.0\n",
      "1       2525  ff1010bird      0.0\n",
      "2      44981  ff1010bird      0.0\n",
      "3     101323  ff1010bird      0.0\n",
      "4     165746  ff1010bird      0.0\n",
      "...      ...         ...      ...\n",
      "7685  168059  ff1010bird      0.0\n",
      "7686  164922  ff1010bird      0.0\n",
      "7687   80789  ff1010bird      1.0\n",
      "7688  104733  ff1010bird      1.0\n",
      "7689   40565  ff1010bird      0.0\n",
      "\n",
      "[7690 rows x 3 columns]\n",
      "                                    itemid          datasetid  hasbird\n",
      "0     00053d90-e4b9-4045-a2f1-f39efc90cfa9  BirdVox-DCASE-20k      1.0\n",
      "1     000db435-a40f-4ad9-a74e-d1af284d2c44  BirdVox-DCASE-20k      0.0\n",
      "2     001059c0-e04f-42fc-a8e2-11aad24dc6fb  BirdVox-DCASE-20k      1.0\n",
      "3     00106202-f61e-467d-a80f-070d90421952  BirdVox-DCASE-20k      0.0\n",
      "4     00129593-77ca-40b2-a512-75d178071250  BirdVox-DCASE-20k      0.0\n",
      "...                                    ...                ...      ...\n",
      "7685                                168059         ff1010bird      0.0\n",
      "7686                                164922         ff1010bird      0.0\n",
      "7687                                 80789         ff1010bird      1.0\n",
      "7688                                104733         ff1010bird      1.0\n",
      "7689                                 40565         ff1010bird      0.0\n",
      "\n",
      "[27690 rows x 3 columns]\n",
      "Uwaga! Sprawdzenie rozmiaru BirdVoxa:  20000.0\n",
      "(tensor([[[ 0.6904,  0.6645,  0.6392,  ...,  0.6683,  0.6889,  0.7259],\n",
      "         [ 0.3934,  0.2855,  0.2427,  ...,  0.2642,  0.2469,  0.3394],\n",
      "         [ 0.3350,  0.0692,  0.0848,  ...,  0.0519,  0.0399,  0.0704],\n",
      "         ...,\n",
      "         [-0.0038,  0.0760,  0.0441,  ..., -0.2805, -0.2597, -0.2642],\n",
      "         [-0.0402, -0.0768, -0.0747,  ..., -0.3143, -0.3404, -0.4325],\n",
      "         [-0.3506, -0.2854, -0.2544,  ..., -0.7082, -0.7058, -0.6046]]]), 0.0, '3f79c47a-6b61-4802-aeac-279890714235')\n"
     ]
    },
    {
     "data": {
      "application/vnd.jupyter.widget-view+json": {
       "model_id": "32f29fc99faf4afe91a18820847ee707",
       "version_major": 2,
       "version_minor": 0
      },
      "text/plain": [
       "Testing: 0it [00:00, ?it/s]"
      ]
     },
     "metadata": {},
     "output_type": "display_data"
    },
    {
     "name": "stdout",
     "output_type": "stream",
     "text": [
      "--------------------------------------------------------------------------------\n",
      "DATALOADER:0 TEST RESULTS\n",
      "{'test_epoch_end_accuracy': 0.9098011255264282,\n",
      " 'test_epoch_end_loss': 0.26148900389671326}\n",
      "--------------------------------------------------------------------------------\n",
      "[{'test_epoch_end_accuracy': 0.9098011255264282, 'test_epoch_end_loss': 0.26148900389671326}]\n"
     ]
    },
    {
     "name": "stderr",
     "output_type": "stream",
     "text": [
      "/home/utworzyd/miniconda3/envs/pytorch_2/lib/python3.8/site-packages/pytorch_lightning/core/step_result.py:148: UserWarning: To copy construct from a tensor, it is recommended to use sourceTensor.clone().detach() or sourceTensor.clone().detach().requires_grad_(True), rather than torch.tensor(sourceTensor).\n",
      "  value = torch.tensor(value, device=device, dtype=torch.float)\n"
     ]
    },
    {
     "data": {
      "text/html": [
       "<br/>Waiting for W&B process to finish, PID 57258<br/>Program ended successfully."
      ],
      "text/plain": [
       "<IPython.core.display.HTML object>"
      ]
     },
     "metadata": {},
     "output_type": "display_data"
    },
    {
     "data": {
      "application/vnd.jupyter.widget-view+json": {
       "model_id": "f8239fe615df4253a4c0260d8b518a32",
       "version_major": 2,
       "version_minor": 0
      },
      "text/plain": [
       "VBox(children=(Label(value=' 0.00MB of 0.00MB uploaded (0.00MB deduped)\\r'), FloatProgress(value=1.0, max=1.0)…"
      ]
     },
     "metadata": {},
     "output_type": "display_data"
    },
    {
     "data": {
      "text/html": [
       "Find user logs for this run at: <code>/data/home/utworzyd/praca_inz/wandb/run-20210316_232539-1zcspfdw/logs/debug.log</code>"
      ],
      "text/plain": [
       "<IPython.core.display.HTML object>"
      ]
     },
     "metadata": {},
     "output_type": "display_data"
    },
    {
     "data": {
      "text/html": [
       "Find internal logs for this run at: <code>/data/home/utworzyd/praca_inz/wandb/run-20210316_232539-1zcspfdw/logs/debug-internal.log</code>"
      ],
      "text/plain": [
       "<IPython.core.display.HTML object>"
      ]
     },
     "metadata": {},
     "output_type": "display_data"
    },
    {
     "data": {
      "text/html": [
       "<h3>Run summary:</h3><br/><style>\n",
       "    table.wandb td:nth-child(1) { padding: 0 10px; text-align: right }\n",
       "    </style><table class=\"wandb\">\n",
       "<tr><td>train_loss_step</td><td>0.48725</td></tr><tr><td>train_acc_step</td><td>0.875</td></tr><tr><td>epoch</td><td>24</td></tr><tr><td>_runtime</td><td>5000</td></tr><tr><td>_timestamp</td><td>1615938539</td></tr><tr><td>_step</td><td>34649</td></tr><tr><td>train_loss_epoch</td><td>0.21874</td></tr><tr><td>train_acc_epoch</td><td>0.91897</td></tr><tr><td>training_epoch_end_accuracy</td><td>0.91906</td></tr><tr><td>training_epoch_end_loss</td><td>0.21863</td></tr><tr><td>lr</td><td>0.0002</td></tr><tr><td>validation_epoch_end_accuracy</td><td>0.90374</td></tr><tr><td>validation_epoch_end_loss</td><td>0.27425</td></tr><tr><td>test_epoch_end_accuracy</td><td>0.9098</td></tr><tr><td>test_epoch_end_loss</td><td>0.26149</td></tr></table>"
      ],
      "text/plain": [
       "<IPython.core.display.HTML object>"
      ]
     },
     "metadata": {},
     "output_type": "display_data"
    },
    {
     "data": {
      "text/html": [
       "<h3>Run history:</h3><br/><style>\n",
       "    table.wandb td:nth-child(1) { padding: 0 10px; text-align: right }\n",
       "    </style><table class=\"wandb\">\n",
       "<tr><td>train_loss_step</td><td>▆█▅▃▅▃▄▆▃▆▃▃▃▃▄▅▃▂█▃▃▂▃▄▁▄▃▂▂▃▄▃▃▁▁▁▁▂▂▂</td></tr><tr><td>train_acc_step</td><td>▅▁▅▇▃▆▅▅▇▅▇▇▇▇▇▄▆█▂▇▅▇▇▆█▅▇▇██▇▇▇████▇▇▇</td></tr><tr><td>epoch</td><td>▁▁▁▂▂▂▂▂▂▂▃▃▃▃▄▄▄▄▄▅▅▅▅▅▅▅▆▆▆▆▇▇▇▇▇▇▇███</td></tr><tr><td>_runtime</td><td>▁▁▁▂▂▂▂▂▂▃▃▃▃▃▄▄▄▄▄▄▅▅▅▅▅▅▆▆▆▆▆▇▇▇▇▇▇███</td></tr><tr><td>_timestamp</td><td>▁▁▁▂▂▂▂▂▂▃▃▃▃▃▄▄▄▄▄▄▅▅▅▅▅▅▆▆▆▆▆▇▇▇▇▇▇███</td></tr><tr><td>_step</td><td>▁▁▁▁▁▁▂▂▂▂▂▂▂▂▂▂▂▃▃▃▃▃▃▃▃▃▃▃▃▄▄▄▄▄▄▄▄▄▄█</td></tr><tr><td>train_loss_epoch</td><td>█▅▄▄▄▃▃▃▃▃▃▂▂▂▂▂▂▂▂▂▁▁▁▁▁</td></tr><tr><td>train_acc_epoch</td><td>▁▄▅▆▆▆▇▇▇▇▇▇▇▇▇▇▇▇▇▇█████</td></tr><tr><td>training_epoch_end_accuracy</td><td>▁▄▅▆▆▆▇▇▇▇▇▇▇▇▇▇▇▇▇▇█████</td></tr><tr><td>training_epoch_end_loss</td><td>█▅▄▄▄▃▃▃▃▃▃▂▂▂▂▂▂▂▂▂▁▁▁▁▁</td></tr><tr><td>lr</td><td>████████████████████▁▁▁▁▁</td></tr><tr><td>validation_epoch_end_accuracy</td><td>▁▅▆▆▇▇▇▇█▇▇█▇████████████</td></tr><tr><td>validation_epoch_end_loss</td><td>█▄▃▃▂▂▂▂▁▁▁▁▁▁▁▁▁▁▁▁▁▁▁▁▁</td></tr><tr><td>test_epoch_end_accuracy</td><td>▁</td></tr><tr><td>test_epoch_end_loss</td><td>▁</td></tr></table><br/>"
      ],
      "text/plain": [
       "<IPython.core.display.HTML object>"
      ]
     },
     "metadata": {},
     "output_type": "display_data"
    },
    {
     "data": {
      "text/html": [
       "Synced 5 W&B file(s), 0 media file(s), 0 artifact file(s) and 1 other file(s)"
      ],
      "text/plain": [
       "<IPython.core.display.HTML object>"
      ]
     },
     "metadata": {},
     "output_type": "display_data"
    },
    {
     "data": {
      "text/html": [
       "\n",
       "                    <br/>Synced <strong style=\"color:#cdcd00\">pious-grass-6</strong>: <a href=\"https://wandb.ai/ulatwo/birdVox%2BFreefield-NeuralNetwork/runs/1zcspfdw\" target=\"_blank\">https://wandb.ai/ulatwo/birdVox%2BFreefield-NeuralNetwork/runs/1zcspfdw</a><br/>\n",
       "                "
      ],
      "text/plain": [
       "<IPython.core.display.HTML object>"
      ]
     },
     "metadata": {},
     "output_type": "display_data"
    }
   ],
   "source": [
    "\n",
    "wandb_logger = WandbLogger(project=\"birdVox+Freefield-NeuralNetwork\")\n",
    "\n",
    "# przykładowe ścieżki:\n",
    "csv_path_B= './BirdVox/BirdVoxDCASE20k.csv'\n",
    "file_path_B='./BirdVox/data/wav'\n",
    "\n",
    "csv_path_F= './freefield1010/ff1010bird_metadata_2018.csv'\n",
    "file_path_F='./freefield1010/wav'\n",
    "\n",
    "\n",
    "#batch_size ~ 32, 64 [32-128] to standard\n",
    "batch_size = 32\n",
    "\n",
    "#num_workers = 24 if cpu\n",
    "num_workers = 24\n",
    "\n",
    "\n",
    "# z ograniczeniem epok:\n",
    "trainer = pl.Trainer(\n",
    "    logger = wandb_logger,  #W&B integration\n",
    "    log_every_n_steps = 50, #set the logging frequency\n",
    "    max_epochs=25,           #number of epochs  \n",
    "    gpus =0,\n",
    "    progress_bar_refresh_rate=50\n",
    ")\n",
    "\n",
    "birdvox_dm = BirdVoxDataModule(csv_path_B, file_path_B,csv_path_F, file_path_F , batch_size, num_workers)\n",
    "model = CNN_Audio_Model()\n",
    "\n",
    "trainer.fit(model, birdvox_dm)\n",
    "trainer.save_checkpoint(\"B+F_model_25e_vallist.ckpt\")\n",
    "\n",
    "result = trainer.test(model)\n",
    "#UWAGA! Jeszcze nie jest ok, bo epoki!\n",
    "# print('validation_wrong_classified',model.validation_wrong_classified)\n",
    "# print(' ')\n",
    "# print('\\n\\n przedlast_epoch_of_validation: ', model.validation_wrong_classified[-2])\n",
    "# print(' ')\n",
    "# print('\\n\\n last_epoch_of_validation: ', model.validation_wrong_classified[-1])\n",
    "print(result)\n",
    "wandb.finish()\n",
    "\n",
    "# zwykły sposób na zapis tego i odczytanie z pliku\n",
    "with open('B+F_wrong_classified_validation_file_names_25e.txt', 'w') as filehandle:\n",
    "    for listitem in model.validation_wrong_classified[-1]:\n",
    "        filehandle.write('%s\\n' % listitem)"
   ]
  },
  {
   "cell_type": "code",
   "execution_count": 26,
   "id": "invalid-excellence",
   "metadata": {},
   "outputs": [],
   "source": [
    "places = []\n",
    "with open('wrong_classified_validation_file_names.txt', 'r') as filehandle:\n",
    "    for line in filehandle:\n",
    "        # remove linebreak which is the last character of the string\n",
    "        currentPlace = line[:-1]\n",
    "\n",
    "        # add item to the list\n",
    "        places.append(currentPlace)"
   ]
  }
 ],
 "metadata": {
  "kernelspec": {
   "display_name": "Python 3",
   "language": "python",
   "name": "python3"
  },
  "language_info": {
   "codemirror_mode": {
    "name": "ipython",
    "version": 3
   },
   "file_extension": ".py",
   "mimetype": "text/x-python",
   "name": "python",
   "nbconvert_exporter": "python",
   "pygments_lexer": "ipython3",
   "version": "3.8.5"
  }
 },
 "nbformat": 4,
 "nbformat_minor": 5
}
