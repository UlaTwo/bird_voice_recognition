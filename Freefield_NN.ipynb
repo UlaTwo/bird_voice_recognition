{
 "cells": [
  {
   "cell_type": "code",
   "execution_count": 1,
   "id": "informational-governor",
   "metadata": {},
   "outputs": [
    {
     "name": "stderr",
     "output_type": "stream",
     "text": [
      "/home/utworzyd/miniconda3/envs/pytorch_2/lib/python3.8/site-packages/torchaudio/backend/utils.py:53: UserWarning: \"sox\" backend is being deprecated. The default backend will be changed to \"sox_io\" backend in 0.8.0 and \"sox\" backend will be removed in 0.9.0. Please migrate to \"sox_io\" backend. Please refer to https://github.com/pytorch/audio/issues/903 for the detail.\n",
      "  warnings.warn(\n"
     ]
    }
   ],
   "source": [
    "import torch\n",
    "from torch.nn import functional as F\n",
    "from torch.utils.data import DataLoader, random_split, Dataset, IterableDataset\n",
    "from torchvision import transforms, datasets\n",
    "import pytorch_lightning as pl\n",
    "import pandas as pd\n",
    "import numpy as np\n",
    "\n",
    "import torchaudio\n",
    "\n",
    "import wandb\n",
    "from pytorch_lightning.loggers import WandbLogger"
   ]
  },
  {
   "cell_type": "code",
   "execution_count": 2,
   "id": "located-jacob",
   "metadata": {},
   "outputs": [
    {
     "name": "stderr",
     "output_type": "stream",
     "text": [
      "\u001b[34m\u001b[1mwandb\u001b[0m: Currently logged in as: \u001b[33mulatwo\u001b[0m (use `wandb login --relogin` to force relogin)\n"
     ]
    },
    {
     "data": {
      "text/plain": [
       "True"
      ]
     },
     "execution_count": 2,
     "metadata": {},
     "output_type": "execute_result"
    }
   ],
   "source": [
    "wandb.login()"
   ]
  },
  {
   "cell_type": "markdown",
   "id": "opened-america",
   "metadata": {},
   "source": [
    "# Dataset Module"
   ]
  },
  {
   "cell_type": "code",
   "execution_count": 13,
   "id": "impressed-bangladesh",
   "metadata": {},
   "outputs": [],
   "source": [
    "\n",
    "class WarblrDataset(Dataset):\n",
    "\n",
    "    # Argument list\n",
    "    # path to the BirdVox-20k csv file\n",
    "    # path to the BirdVox-20k audio files\n",
    "    \n",
    "    def __init__(self, csv_path,file_path):\n",
    "        \n",
    "        csvData = pd.read_csv(csv_path,dtype = {'itemid': 'string','hasbird':np.float32})\n",
    "        self.file_names = []\n",
    "        self.labels = []\n",
    "        \n",
    "        for i in range( 0,len(csvData) ):\n",
    "            self.file_names.append(csvData.iloc[i,0])\n",
    "            self.labels.append(csvData.iloc[i,2])\n",
    "            \n",
    "        #tutaj label na float    \n",
    "        self.file_path = file_path\n",
    "        self.mel_spectogram = torchaudio.transforms.MelSpectrogram(sample_rate=44100,\n",
    "                                                                   n_fft=1261, \n",
    "                                                                   #n_fft=1268,\n",
    "                                                                   n_mels=80, \n",
    "                                                                   window_fn=torch.hamming_window,\n",
    "                                                                   f_min=50, f_max = 12000)\n",
    "        self.amplitude_to_db = torchaudio.transforms.AmplitudeToDB()\n",
    "    \n",
    "    def __len__(self):\n",
    "        \n",
    "        return len(self.file_names)\n",
    "    \n",
    "    def __getitem__(self, index):\n",
    "        \n",
    "        path = self.file_path+\"/\"+self.file_names[index]+\".wav\"\n",
    "        \n",
    "        #Load audio file into torch.Tensor object. \n",
    "        waveform, sample_rate = torchaudio.load(path)\n",
    "        # utworzenie Mal Spektogramu\n",
    "        specgram = self.mel_spectogram(waveform)\n",
    "        specgram  = transforms.Resize((80,700))(specgram)\n",
    "        # transformacja za skali amplitud do decybeli\n",
    "        transformedAmpToDB = self.amplitude_to_db(specgram)\n",
    "\n",
    "        # normalizacja\n",
    "        tensor_minusmean = transformedAmpToDB - transformedAmpToDB.mean()\n",
    "        soundFormatted = tensor_minusmean/tensor_minusmean.abs().max()\n",
    "\n",
    "        return soundFormatted, self.labels[index] , self.file_names[index]"
   ]
  },
  {
   "cell_type": "code",
   "execution_count": 4,
   "id": "hidden-frank",
   "metadata": {},
   "outputs": [],
   "source": [
    "class WarblrDataModule(pl.LightningDataModule):\n",
    "    \n",
    "    def __init__(self, csv_path, file_path, batch_size, num_workers):\n",
    "        super().__init__()\n",
    "        self.batch_size = batch_size\n",
    "        self.csv_path = csv_path\n",
    "        self.file_path = file_path\n",
    "        self.num_workers = num_workers\n",
    "    \n",
    "    def setup(self, stage=None):\n",
    "        birdvox_dataset = WarblrDataset(self.csv_path, self.file_path)\n",
    "        self.train_set, self.val_set, self.test_set = torch.utils.data.random_split(birdvox_dataset, [6152,1154,384], generator=torch.Generator().manual_seed(42))\n",
    "        print(self.val_set[0])\n",
    "\n",
    "    def train_dataloader(self):\n",
    "        return DataLoader(self.train_set, batch_size = self.batch_size, num_workers= self.num_workers)\n",
    "    \n",
    "    def val_dataloader(self):\n",
    "        return DataLoader(self.val_set, batch_size = self.batch_size, num_workers= self.num_workers)\n",
    "\n",
    "    def test_dataloader(self):\n",
    "        return DataLoader(self.test_set, batch_size = self.batch_size, num_workers= self.num_workers) \n",
    "    "
   ]
  },
  {
   "cell_type": "markdown",
   "id": "subtle-designation",
   "metadata": {},
   "source": [
    "# opis sieci\n",
    "##### Input -700x80x1\n",
    "##### Convolution (3x3) -698x78x16\n",
    "##### Pool (3x3) -232x26x16\n",
    "        \n",
    "##### Convolution (3x3) -230x24x16\n",
    "##### Pool (3x3) -76x8x16\n",
    "        \n",
    "##### Convolution (3x3) -74x6x16\n",
    "##### Pool (3x1) -24x6x16\n",
    "        \n",
    "##### Convolution (3x3) -22x4x16\n",
    "##### Pool (3x1)-7x4x16\n",
    "        \n",
    "##### Dense (256) -256\n",
    "##### Dense (32) -32\n",
    "##### Dense (1) -1"
   ]
  },
  {
   "cell_type": "code",
   "execution_count": 5,
   "id": "fitting-fetish",
   "metadata": {},
   "outputs": [],
   "source": [
    "class CNN_Audio_Model(pl.LightningModule):\n",
    "    def __init__(self):\n",
    "        super().__init__()\n",
    "        \n",
    "        #convolution layers\n",
    "        self.layer1 = torch.nn.Sequential(torch.nn.Conv2d(1,16,kernel_size=3),\n",
    "                                          torch.nn.BatchNorm2d(16),\n",
    "                                          torch.nn.LeakyReLU(0.001),\n",
    "                                          torch.nn.MaxPool2d((3,3)) )\n",
    "        \n",
    "        self.layer2 = torch.nn.Sequential(torch.nn.Conv2d(16,16,kernel_size=3),\n",
    "                                          torch.nn.BatchNorm2d(16),\n",
    "                                          torch.nn.LeakyReLU(0.001),\n",
    "                                          torch.nn.MaxPool2d((3,3)) )\n",
    "        \n",
    "        self.layer3 = torch.nn.Sequential(torch.nn.Conv2d(16,16,kernel_size=3),\n",
    "                                          torch.nn.BatchNorm2d(16),\n",
    "                                          torch.nn.LeakyReLU(0.001),\n",
    "                                          torch.nn.MaxPool2d((1,3)))\n",
    "\n",
    "        self.layer4 = torch.nn.Sequential(torch.nn.Conv2d(16,16,kernel_size=3),\n",
    "                                          torch.nn.BatchNorm2d(16),\n",
    "                                          torch.nn.LeakyReLU(0.001),\n",
    "                                          torch.nn.MaxPool2d((1,3)),\n",
    "                                          torch.nn.Flatten())\n",
    "        \n",
    "        #dense layers\n",
    "        self.dropout = torch.nn.Dropout()\n",
    "        self.fc1 = torch.nn.Linear(7*4*16,256)\n",
    "        self.batch1 = torch.nn.BatchNorm1d(256) \n",
    "        self.leakyReLU = torch.nn.LeakyReLU(0.001)\n",
    "        \n",
    "        self.fc2 = torch.nn.Linear(256,32)\n",
    "        self.batch2 = torch.nn.BatchNorm1d(32) #i na tym leakyRelu\n",
    "        \n",
    "        self.fc3 = torch.nn.Linear(32,1) #i na tym sigmoid\n",
    "        self.sigmoid = torch.nn.Sigmoid()\n",
    "        \n",
    "        self.flatten = torch.nn.Flatten(start_dim=0)\n",
    "        \n",
    "        # compute the accuracy -- no need to roll your own!\n",
    "        self.train_acc = pl.metrics.Accuracy()\n",
    "        self.valid_acc = pl.metrics.Accuracy()\n",
    "        self.test_acc = pl.metrics.Accuracy()\n",
    "        \n",
    "        self.validation_wrong_classified = []\n",
    "        self.validation_wrong_classified_epoch = []\n",
    "        \n",
    "        \n",
    "    def forward(self,x):\n",
    "        \n",
    "        #convolution layers\n",
    "        x=self.layer1(x)\n",
    "        x=self.layer2(x)\n",
    "        x=self.layer3(x)\n",
    "        x=self.layer4(x)\n",
    "\n",
    "        #dense layers\n",
    "        x=self.dropout(x)\n",
    "        x=self.fc1(x)\n",
    "        x=self.batch1(x)\n",
    "        x=self.leakyReLU(x)\n",
    "        \n",
    "        x=self.dropout(x)\n",
    "        x=self.fc2(x)\n",
    "        x=self.batch2(x)\n",
    "        x=self.leakyReLU(x)\n",
    "        \n",
    "        x=self.dropout(x)\n",
    "        \n",
    "        x=self.fc3(x)\n",
    "        \n",
    "        x = self.sigmoid(x)\n",
    "        \n",
    "        #PYTANIE: czy to tutaj może być, czy jest to problem jednak?\n",
    "        #problematyczny shape tensora dla cross_entropy, dlatego reshape\n",
    "        #był: tensor([[0.4876], ... , [0.4875]]) po: tensor([0.4876, ... ,0.4875])\n",
    "        # reshape na flatten\n",
    "        x=self.flatten(x)\n",
    "        return x\n",
    "    \n",
    "    #z artykułu: The network is trained on binary cross entropy loss using accuracy as a metric.\n",
    "    def cross_entropy_loss(self, logits, labels):\n",
    "        return F.binary_cross_entropy(logits, labels)\n",
    "\n",
    "    def training_step(self, train_batch, batch_idx):\n",
    "        x, y, f = train_batch\n",
    "        logits = self.forward(x)\n",
    "        loss = self.cross_entropy_loss(logits, y)\n",
    "        \n",
    "        self.log('train_loss', loss, on_epoch=True, sync_dist=True)\n",
    "        \n",
    "        y = y.int()\n",
    "        accuracy = self.train_acc(logits, y)\n",
    "        self.log('train_acc', self.train_acc, on_epoch=True, sync_dist=True)\n",
    "        \n",
    "        return {'loss': loss, 'accuracy': accuracy}\n",
    "\n",
    "    def validation_step(self, val_batch, batch_idx):\n",
    "        x, y, f = val_batch\n",
    "        logits = self.forward(x)\n",
    "        loss = self.cross_entropy_loss(logits, y)\n",
    "#         print('names: ', f)\n",
    "#         print('logits: ', logits)\n",
    "#         print('y: ',y)\n",
    "#         print('loss: ', loss)\n",
    "        y = y.int()\n",
    "        accuracy = self.valid_acc(logits, y)\n",
    "#         print('accuracy: ',accuracy)\n",
    "        \n",
    "        list_file_names = []\n",
    "        #trochę na wprost tworzenie listy tych nagrań, które zostały źle zaklasyfikowane\n",
    "        for id in range(len(f)):\n",
    "            if round(float(logits[id])) != y[id]:\n",
    "                self.validation_wrong_classified_epoch.append(f[id])\n",
    "                \n",
    "        return {'val_loss': loss, 'val_accuracy': accuracy}\n",
    "\n",
    "    def test_step(self, test_batch, batch_idx):\n",
    "        x, y, f = test_batch\n",
    "        logits = self.forward(x)\n",
    "        loss = self.cross_entropy_loss(logits, y)\n",
    "        y = y.int()\n",
    "        accuracy = self.test_acc(logits, y)\n",
    "        \n",
    "        return {'test_loss': loss, 'test_accuracy': accuracy}\n",
    "    \n",
    "    \n",
    "    def training_epoch_end(self, outputs):\n",
    "        \n",
    "        avg_loss = torch.stack([x['loss'] for x in outputs]).mean()\n",
    "        avg_accuracy = torch.stack([x['accuracy'] for x in outputs]).mean()\n",
    "\n",
    "        self.log('training_epoch_end_accuracy', avg_accuracy, sync_dist=True)\n",
    "        self.log('training_epoch_end_loss', avg_loss, sync_dist=True)\n",
    "        self.log('lr', self.optimizers().param_groups[0]['lr'], sync_dist=True)\n",
    "    \n",
    "    def validation_epoch_end(self, outputs):\n",
    "        avg_loss = torch.stack([x['val_loss'] for x in outputs]).mean()\n",
    "        avg_accuracy = torch.stack([x['val_accuracy'] for x in outputs]).mean()\n",
    "            \n",
    "        self.log('validation_epoch_end_accuracy', avg_accuracy, sync_dist=True)\n",
    "        self.log('validation_epoch_end_loss', avg_loss, sync_dist=True)\n",
    "        self.validation_wrong_classified.append(self.validation_wrong_classified_epoch.copy())\n",
    "        self.validation_wrong_classified_epoch.clear()\n",
    "\n",
    "    def test_epoch_end(self, outputs):\n",
    "        avg_loss = torch.stack([x['test_loss'] for x in outputs]).mean()\n",
    "        avg_accuracy = torch.stack([x['test_accuracy'] for x in outputs]).mean()\n",
    "        \n",
    "        self.log('test_epoch_end_accuracy', avg_accuracy, sync_dist=True)\n",
    "        self.log('test_epoch_end_loss', avg_loss, sync_dist=True)\n",
    "\n",
    "    #według artykułu: For training,ADAM optimizer is used with an initial learning rate of 0.001. \n",
    "    # ! The learning rate was reduced by a factor of 0.2 if there was no improvement in validation accuracy \n",
    "    #over five consecutive epochs.\n",
    "    \n",
    "    def configure_optimizers(self):\n",
    "        optimizer = torch.optim.Adam(self.parameters(), lr=1e-3)\n",
    "        lr_scheduler = torch.optim.lr_scheduler.ReduceLROnPlateau(optimizer, mode = 'min', factor = 0.2, patience = 5)\n",
    "        return {\n",
    "            'optimizer': optimizer,\n",
    "            'lr_scheduler': lr_scheduler,\n",
    "            'monitor': 'validation_epoch_end_loss'\n",
    "        }"
   ]
  },
  {
   "cell_type": "code",
   "execution_count": 15,
   "id": "industrial-premium",
   "metadata": {},
   "outputs": [
    {
     "name": "stderr",
     "output_type": "stream",
     "text": [
      "GPU available: True, used: True\n",
      "TPU available: None, using: 0 TPU cores\n"
     ]
    },
    {
     "name": "stdout",
     "output_type": "stream",
     "text": [
      "(tensor([[[ 0.8183,  0.8582,  0.8409,  ...,  0.5434,  0.8819,  0.6458],\n",
      "         [ 0.7061,  0.8485,  0.8031,  ...,  0.4182,  0.7512,  0.5951],\n",
      "         [ 0.5400,  0.6291,  0.5030,  ...,  0.1896,  0.5307,  0.4813],\n",
      "         ...,\n",
      "         [-0.5623, -0.6756, -0.5881,  ..., -0.5868, -0.8141, -0.6771],\n",
      "         [-0.5856, -0.6814, -0.5926,  ..., -0.5896, -0.7958, -0.6996],\n",
      "         [-0.5809, -0.6907, -0.6016,  ..., -0.5905, -0.7745, -0.6928]]]), 1.0, '96191')\n"
     ]
    },
    {
     "name": "stderr",
     "output_type": "stream",
     "text": [
      "\u001b[34m\u001b[1mwandb\u001b[0m: wandb version 0.10.22 is available!  To upgrade, please run:\n",
      "\u001b[34m\u001b[1mwandb\u001b[0m:  $ pip install wandb --upgrade\n"
     ]
    },
    {
     "data": {
      "text/html": [
       "\n",
       "                Tracking run with wandb version 0.10.20<br/>\n",
       "                Syncing run <strong style=\"color:#cdcd00\">dainty-silence-2</strong> to <a href=\"https://wandb.ai\" target=\"_blank\">Weights & Biases</a> <a href=\"https://docs.wandb.com/integrations/jupyter.html\" target=\"_blank\">(Documentation)</a>.<br/>\n",
       "                Project page: <a href=\"https://wandb.ai/ulatwo/FreeField-NeuralNetwork\" target=\"_blank\">https://wandb.ai/ulatwo/FreeField-NeuralNetwork</a><br/>\n",
       "                Run page: <a href=\"https://wandb.ai/ulatwo/FreeField-NeuralNetwork/runs/18q3fiid\" target=\"_blank\">https://wandb.ai/ulatwo/FreeField-NeuralNetwork/runs/18q3fiid</a><br/>\n",
       "                Run data is saved locally in <code>/data/home/utworzyd/praca_inz/wandb/run-20210311_080323-18q3fiid</code><br/><br/>\n",
       "            "
      ],
      "text/plain": [
       "<IPython.core.display.HTML object>"
      ]
     },
     "metadata": {},
     "output_type": "display_data"
    },
    {
     "name": "stderr",
     "output_type": "stream",
     "text": [
      "\n",
      "   | Name      | Type        | Params\n",
      "-------------------------------------------\n",
      "0  | layer1    | Sequential  | 192   \n",
      "1  | layer2    | Sequential  | 2.4 K \n",
      "2  | layer3    | Sequential  | 2.4 K \n",
      "3  | layer4    | Sequential  | 2.4 K \n",
      "4  | dropout   | Dropout     | 0     \n",
      "5  | fc1       | Linear      | 114 K \n",
      "6  | batch1    | BatchNorm1d | 512   \n",
      "7  | leakyReLU | LeakyReLU   | 0     \n",
      "8  | fc2       | Linear      | 8.2 K \n",
      "9  | batch2    | BatchNorm1d | 64    \n",
      "10 | fc3       | Linear      | 33    \n",
      "11 | sigmoid   | Sigmoid     | 0     \n",
      "12 | flatten   | Flatten     | 0     \n",
      "13 | train_acc | Accuracy    | 0     \n",
      "14 | valid_acc | Accuracy    | 0     \n",
      "15 | test_acc  | Accuracy    | 0     \n",
      "-------------------------------------------\n",
      "131 K     Trainable params\n",
      "0         Non-trainable params\n",
      "131 K     Total params\n",
      "0.524     Total estimated model params size (MB)\n"
     ]
    },
    {
     "data": {
      "application/vnd.jupyter.widget-view+json": {
       "model_id": "0f6fda9b30b94ee1aeb1235664f7d719",
       "version_major": 2,
       "version_minor": 0
      },
      "text/plain": [
       "Validation sanity check: 0it [00:00, ?it/s]"
      ]
     },
     "metadata": {},
     "output_type": "display_data"
    },
    {
     "data": {
      "application/vnd.jupyter.widget-view+json": {
       "model_id": "06010a1b93f845f29d3743316d444603",
       "version_major": 2,
       "version_minor": 0
      },
      "text/plain": [
       "Training: 0it [00:00, ?it/s]"
      ]
     },
     "metadata": {},
     "output_type": "display_data"
    },
    {
     "data": {
      "application/vnd.jupyter.widget-view+json": {
       "model_id": "9c11add6e25c433f81c79f3a80df4126",
       "version_major": 2,
       "version_minor": 0
      },
      "text/plain": [
       "Validating: 0it [00:00, ?it/s]"
      ]
     },
     "metadata": {},
     "output_type": "display_data"
    },
    {
     "data": {
      "application/vnd.jupyter.widget-view+json": {
       "model_id": "5492d3f72cc84f3c9a5db3ee5c23c3e3",
       "version_major": 2,
       "version_minor": 0
      },
      "text/plain": [
       "Validating: 0it [00:00, ?it/s]"
      ]
     },
     "metadata": {},
     "output_type": "display_data"
    },
    {
     "data": {
      "application/vnd.jupyter.widget-view+json": {
       "model_id": "f76d96cdd8b946b2b713e66ed2f9769b",
       "version_major": 2,
       "version_minor": 0
      },
      "text/plain": [
       "Validating: 0it [00:00, ?it/s]"
      ]
     },
     "metadata": {},
     "output_type": "display_data"
    },
    {
     "data": {
      "application/vnd.jupyter.widget-view+json": {
       "model_id": "87a131b9798a4bff86e8c626aa28f453",
       "version_major": 2,
       "version_minor": 0
      },
      "text/plain": [
       "Validating: 0it [00:00, ?it/s]"
      ]
     },
     "metadata": {},
     "output_type": "display_data"
    },
    {
     "data": {
      "application/vnd.jupyter.widget-view+json": {
       "model_id": "7833949a3cc5418ebc0a75d5a82cae32",
       "version_major": 2,
       "version_minor": 0
      },
      "text/plain": [
       "Validating: 0it [00:00, ?it/s]"
      ]
     },
     "metadata": {},
     "output_type": "display_data"
    },
    {
     "data": {
      "application/vnd.jupyter.widget-view+json": {
       "model_id": "aaa0dbbc85ab4b54a0ef89bfa970085a",
       "version_major": 2,
       "version_minor": 0
      },
      "text/plain": [
       "Validating: 0it [00:00, ?it/s]"
      ]
     },
     "metadata": {},
     "output_type": "display_data"
    },
    {
     "data": {
      "application/vnd.jupyter.widget-view+json": {
       "model_id": "5a4752c5048045969f44c3155037f510",
       "version_major": 2,
       "version_minor": 0
      },
      "text/plain": [
       "Validating: 0it [00:00, ?it/s]"
      ]
     },
     "metadata": {},
     "output_type": "display_data"
    },
    {
     "data": {
      "application/vnd.jupyter.widget-view+json": {
       "model_id": "bd2462c03b414944913fa4e1c2c2cdf0",
       "version_major": 2,
       "version_minor": 0
      },
      "text/plain": [
       "Validating: 0it [00:00, ?it/s]"
      ]
     },
     "metadata": {},
     "output_type": "display_data"
    },
    {
     "data": {
      "application/vnd.jupyter.widget-view+json": {
       "model_id": "8fe7ff0e37c4463e938e8b2980dba4ff",
       "version_major": 2,
       "version_minor": 0
      },
      "text/plain": [
       "Validating: 0it [00:00, ?it/s]"
      ]
     },
     "metadata": {},
     "output_type": "display_data"
    },
    {
     "data": {
      "application/vnd.jupyter.widget-view+json": {
       "model_id": "a1a7e472964347aeae32cb616a03d16d",
       "version_major": 2,
       "version_minor": 0
      },
      "text/plain": [
       "Validating: 0it [00:00, ?it/s]"
      ]
     },
     "metadata": {},
     "output_type": "display_data"
    },
    {
     "data": {
      "application/vnd.jupyter.widget-view+json": {
       "model_id": "fd2aaeb1fb6140e08daf392b1987b855",
       "version_major": 2,
       "version_minor": 0
      },
      "text/plain": [
       "Validating: 0it [00:00, ?it/s]"
      ]
     },
     "metadata": {},
     "output_type": "display_data"
    },
    {
     "data": {
      "application/vnd.jupyter.widget-view+json": {
       "model_id": "f7dd5ae62f17405889363b8bedadf31e",
       "version_major": 2,
       "version_minor": 0
      },
      "text/plain": [
       "Validating: 0it [00:00, ?it/s]"
      ]
     },
     "metadata": {},
     "output_type": "display_data"
    },
    {
     "data": {
      "application/vnd.jupyter.widget-view+json": {
       "model_id": "051d239302d849fbac208d0ea8452ecd",
       "version_major": 2,
       "version_minor": 0
      },
      "text/plain": [
       "Validating: 0it [00:00, ?it/s]"
      ]
     },
     "metadata": {},
     "output_type": "display_data"
    },
    {
     "data": {
      "application/vnd.jupyter.widget-view+json": {
       "model_id": "9c7aeb9253584042847316703ba53a4e",
       "version_major": 2,
       "version_minor": 0
      },
      "text/plain": [
       "Validating: 0it [00:00, ?it/s]"
      ]
     },
     "metadata": {},
     "output_type": "display_data"
    },
    {
     "data": {
      "application/vnd.jupyter.widget-view+json": {
       "model_id": "aabe376f6e314d0e9e18727b9c9ee089",
       "version_major": 2,
       "version_minor": 0
      },
      "text/plain": [
       "Validating: 0it [00:00, ?it/s]"
      ]
     },
     "metadata": {},
     "output_type": "display_data"
    },
    {
     "data": {
      "application/vnd.jupyter.widget-view+json": {
       "model_id": "8f63a8ccf278407cbb7755d7c1249a59",
       "version_major": 2,
       "version_minor": 0
      },
      "text/plain": [
       "Validating: 0it [00:00, ?it/s]"
      ]
     },
     "metadata": {},
     "output_type": "display_data"
    },
    {
     "data": {
      "application/vnd.jupyter.widget-view+json": {
       "model_id": "8dea9affe0b246ba95f8c6e4330ece2a",
       "version_major": 2,
       "version_minor": 0
      },
      "text/plain": [
       "Validating: 0it [00:00, ?it/s]"
      ]
     },
     "metadata": {},
     "output_type": "display_data"
    },
    {
     "data": {
      "application/vnd.jupyter.widget-view+json": {
       "model_id": "3e34996801324d35aa5ab2703e6de92b",
       "version_major": 2,
       "version_minor": 0
      },
      "text/plain": [
       "Validating: 0it [00:00, ?it/s]"
      ]
     },
     "metadata": {},
     "output_type": "display_data"
    },
    {
     "data": {
      "application/vnd.jupyter.widget-view+json": {
       "model_id": "6330545d4c3d46069d8630ba049f296e",
       "version_major": 2,
       "version_minor": 0
      },
      "text/plain": [
       "Validating: 0it [00:00, ?it/s]"
      ]
     },
     "metadata": {},
     "output_type": "display_data"
    },
    {
     "data": {
      "application/vnd.jupyter.widget-view+json": {
       "model_id": "3f49bcb41963470e899bb756ab2d9c27",
       "version_major": 2,
       "version_minor": 0
      },
      "text/plain": [
       "Validating: 0it [00:00, ?it/s]"
      ]
     },
     "metadata": {},
     "output_type": "display_data"
    },
    {
     "data": {
      "application/vnd.jupyter.widget-view+json": {
       "model_id": "88de1cfbed5b4aa6aebdfd7dce6f1a3b",
       "version_major": 2,
       "version_minor": 0
      },
      "text/plain": [
       "Validating: 0it [00:00, ?it/s]"
      ]
     },
     "metadata": {},
     "output_type": "display_data"
    },
    {
     "data": {
      "application/vnd.jupyter.widget-view+json": {
       "model_id": "a7f7c994db304bcc860bddbb26e617fb",
       "version_major": 2,
       "version_minor": 0
      },
      "text/plain": [
       "Validating: 0it [00:00, ?it/s]"
      ]
     },
     "metadata": {},
     "output_type": "display_data"
    },
    {
     "data": {
      "application/vnd.jupyter.widget-view+json": {
       "model_id": "3b93a67ab1894c38985be7df6b6e68ad",
       "version_major": 2,
       "version_minor": 0
      },
      "text/plain": [
       "Validating: 0it [00:00, ?it/s]"
      ]
     },
     "metadata": {},
     "output_type": "display_data"
    },
    {
     "data": {
      "application/vnd.jupyter.widget-view+json": {
       "model_id": "c22ddeeb6cd2431d9606b45e31aba6f1",
       "version_major": 2,
       "version_minor": 0
      },
      "text/plain": [
       "Validating: 0it [00:00, ?it/s]"
      ]
     },
     "metadata": {},
     "output_type": "display_data"
    },
    {
     "data": {
      "application/vnd.jupyter.widget-view+json": {
       "model_id": "f039aa99997543ad860222819e3154db",
       "version_major": 2,
       "version_minor": 0
      },
      "text/plain": [
       "Validating: 0it [00:00, ?it/s]"
      ]
     },
     "metadata": {},
     "output_type": "display_data"
    },
    {
     "name": "stdout",
     "output_type": "stream",
     "text": [
      "(tensor([[[ 0.8183,  0.8582,  0.8409,  ...,  0.5434,  0.8819,  0.6458],\n",
      "         [ 0.7061,  0.8485,  0.8031,  ...,  0.4182,  0.7512,  0.5951],\n",
      "         [ 0.5400,  0.6291,  0.5030,  ...,  0.1896,  0.5307,  0.4813],\n",
      "         ...,\n",
      "         [-0.5623, -0.6756, -0.5881,  ..., -0.5868, -0.8141, -0.6771],\n",
      "         [-0.5856, -0.6814, -0.5926,  ..., -0.5896, -0.7958, -0.6996],\n",
      "         [-0.5809, -0.6907, -0.6016,  ..., -0.5905, -0.7745, -0.6928]]]), 1.0, '96191')\n"
     ]
    },
    {
     "data": {
      "application/vnd.jupyter.widget-view+json": {
       "model_id": "2e9cf920d1484f5fa3297efebb543221",
       "version_major": 2,
       "version_minor": 0
      },
      "text/plain": [
       "Testing: 0it [00:00, ?it/s]"
      ]
     },
     "metadata": {},
     "output_type": "display_data"
    },
    {
     "name": "stdout",
     "output_type": "stream",
     "text": [
      "--------------------------------------------------------------------------------\n",
      "DATALOADER:0 TEST RESULTS\n",
      "{'test_epoch_end_accuracy': 0.8958333730697632,\n",
      " 'test_epoch_end_loss': 0.33584100008010864}\n",
      "--------------------------------------------------------------------------------\n"
     ]
    },
    {
     "data": {
      "text/html": [
       "<br/>Waiting for W&B process to finish, PID 8663<br/>Program ended successfully."
      ],
      "text/plain": [
       "<IPython.core.display.HTML object>"
      ]
     },
     "metadata": {},
     "output_type": "display_data"
    },
    {
     "data": {
      "application/vnd.jupyter.widget-view+json": {
       "model_id": "c95632fd5d3745ae8a0fd17f8470c445",
       "version_major": 2,
       "version_minor": 0
      },
      "text/plain": [
       "VBox(children=(Label(value=' 0.00MB of 0.00MB uploaded (0.00MB deduped)\\r'), FloatProgress(value=1.0, max=1.0)…"
      ]
     },
     "metadata": {},
     "output_type": "display_data"
    },
    {
     "data": {
      "text/html": [
       "Find user logs for this run at: <code>/data/home/utworzyd/praca_inz/wandb/run-20210311_080323-18q3fiid/logs/debug.log</code>"
      ],
      "text/plain": [
       "<IPython.core.display.HTML object>"
      ]
     },
     "metadata": {},
     "output_type": "display_data"
    },
    {
     "data": {
      "text/html": [
       "Find internal logs for this run at: <code>/data/home/utworzyd/praca_inz/wandb/run-20210311_080323-18q3fiid/logs/debug-internal.log</code>"
      ],
      "text/plain": [
       "<IPython.core.display.HTML object>"
      ]
     },
     "metadata": {},
     "output_type": "display_data"
    },
    {
     "data": {
      "text/html": [
       "<h3>Run summary:</h3><br/><style>\n",
       "    table.wandb td:nth-child(1) { padding: 0 10px; text-align: right }\n",
       "    </style><table class=\"wandb\">\n",
       "<tr><td>train_loss_step</td><td>0.57696</td></tr><tr><td>train_acc_step</td><td>0.8125</td></tr><tr><td>epoch</td><td>24</td></tr><tr><td>_runtime</td><td>409</td></tr><tr><td>_timestamp</td><td>1615446612</td></tr><tr><td>_step</td><td>9649</td></tr><tr><td>train_loss_epoch</td><td>0.23079</td></tr><tr><td>train_acc_epoch</td><td>0.91369</td></tr><tr><td>training_epoch_end_accuracy</td><td>0.91402</td></tr><tr><td>training_epoch_end_loss</td><td>0.23036</td></tr><tr><td>lr</td><td>4e-05</td></tr><tr><td>validation_epoch_end_accuracy</td><td>0.88514</td></tr><tr><td>validation_epoch_end_loss</td><td>0.31077</td></tr><tr><td>test_epoch_end_accuracy</td><td>0.89583</td></tr><tr><td>test_epoch_end_loss</td><td>0.33584</td></tr></table>"
      ],
      "text/plain": [
       "<IPython.core.display.HTML object>"
      ]
     },
     "metadata": {},
     "output_type": "display_data"
    },
    {
     "data": {
      "text/html": [
       "<h3>Run history:</h3><br/><style>\n",
       "    table.wandb td:nth-child(1) { padding: 0 10px; text-align: right }\n",
       "    </style><table class=\"wandb\">\n",
       "<tr><td>train_loss_step</td><td>█▄▇▄▅▃▃▆▅▂▄▄▄▄▃▄▆▂▅▂▂▄▂▂▃▄▄▅▆▆▃▂▁▂▃▃▄▂▅▂</td></tr><tr><td>train_acc_step</td><td>▁▆▃▆▆▇▇▄▃█▆▆▅▅▅▅▄▇▅▇▇▆█▆▅▄▆▄▅▄▅▇█▇▅▅▅▆▄█</td></tr><tr><td>epoch</td><td>▁▁▁▂▂▂▂▂▂▂▃▃▃▃▄▄▄▄▄▅▅▅▅▅▅▆▆▆▆▆▇▇▇▇▇▇████</td></tr><tr><td>_runtime</td><td>▁▁▁▂▂▂▂▂▂▃▃▃▃▃▄▄▄▄▄▄▅▅▅▅▅▅▆▆▆▆▆▇▇▇▇▇▇███</td></tr><tr><td>_timestamp</td><td>▁▁▁▂▂▂▂▂▂▃▃▃▃▃▄▄▄▄▄▄▅▅▅▅▅▅▆▆▆▆▆▇▇▇▇▇▇███</td></tr><tr><td>_step</td><td>▁▁▁▁▁▁▂▂▂▂▂▂▂▂▂▂▂▃▃▃▃▃▃▃▃▃▃▃▃▄▄▄▄▄▄▄▄▄▄█</td></tr><tr><td>train_loss_epoch</td><td>█▅▅▄▄▄▃▃▃▃▂▂▂▂▂▂▁▂▂▁▁▁▁▁▁</td></tr><tr><td>train_acc_epoch</td><td>▁▄▅▅▆▆▆▆▆▇▇▇▇█▇██▇███████</td></tr><tr><td>training_epoch_end_accuracy</td><td>▁▄▅▅▆▆▆▆▆▇▇▇▇█▇██▇███████</td></tr><tr><td>training_epoch_end_loss</td><td>█▅▅▄▄▄▃▃▃▃▂▂▂▂▂▂▁▂▂▁▁▁▁▁▁</td></tr><tr><td>lr</td><td>██████████▂▂▂▂▂▂▂▂▂▁▁▁▁▁▁</td></tr><tr><td>validation_epoch_end_accuracy</td><td>▃▁▇██▇█▇█▇███████████████</td></tr><tr><td>validation_epoch_end_loss</td><td>▆█▂▁▂▂▂▂▂▂▁▁▁▁▁▁▁▁▁▁▁▁▁▁▁</td></tr><tr><td>test_epoch_end_accuracy</td><td>▁</td></tr><tr><td>test_epoch_end_loss</td><td>▁</td></tr></table><br/>"
      ],
      "text/plain": [
       "<IPython.core.display.HTML object>"
      ]
     },
     "metadata": {},
     "output_type": "display_data"
    },
    {
     "data": {
      "text/html": [
       "Synced 5 W&B file(s), 0 media file(s), 0 artifact file(s) and 1 other file(s)"
      ],
      "text/plain": [
       "<IPython.core.display.HTML object>"
      ]
     },
     "metadata": {},
     "output_type": "display_data"
    },
    {
     "data": {
      "text/html": [
       "\n",
       "                    <br/>Synced <strong style=\"color:#cdcd00\">dainty-silence-2</strong>: <a href=\"https://wandb.ai/ulatwo/FreeField-NeuralNetwork/runs/18q3fiid\" target=\"_blank\">https://wandb.ai/ulatwo/FreeField-NeuralNetwork/runs/18q3fiid</a><br/>\n",
       "                "
      ],
      "text/plain": [
       "<IPython.core.display.HTML object>"
      ]
     },
     "metadata": {},
     "output_type": "display_data"
    }
   ],
   "source": [
    "\n",
    "wandb_logger = WandbLogger(project=\"FreeField-NeuralNetwork\")\n",
    "\n",
    "# przykładowe ścieżki:\n",
    "csv_path= './freefield1010/ff1010bird_metadata_2018.csv'\n",
    "file_path='./freefield1010/wav'\n",
    "\n",
    "#batch_size ~ 32, 64 [32-128] to standard\n",
    "batch_size = 32\n",
    "\n",
    "#num_workers = 24 if cpu\n",
    "num_workers = 24\n",
    "\n",
    "\n",
    "# z ograniczeniem epok:\n",
    "trainer = pl.Trainer(\n",
    "    logger = wandb_logger,  #W&B integration\n",
    "    log_every_n_steps = 50, #set the logging frequency\n",
    "    max_epochs=25,           #number of epochs  \n",
    "    gpus =[0],\n",
    "    progress_bar_refresh_rate=50\n",
    ")\n",
    "\n",
    "birdvox_dm = WarblrDataModule(csv_path, file_path, batch_size, num_workers)\n",
    "model = CNN_Audio_Model()\n",
    "\n",
    "trainer.fit(model, birdvox_dm)\n",
    "trainer.save_checkpoint(\"./freefield1010/F_model_25e_vallist.ckpt\")\n",
    "\n",
    "result = trainer.test(model)\n",
    "\n",
    "# print('validation_wrong_classified',model.validation_wrong_classified)\n",
    "# print(' ')\n",
    "# print('\\n\\n przedlast_epoch_of_validation: ', model.validation_wrong_classified[-2])\n",
    "# print(' ')\n",
    "# print('\\n\\n last_epoch_of_validation: ', model.validation_wrong_classified[-1])\n",
    "# print(result)\n",
    "wandb.finish()\n",
    "\n",
    "# zwykły sposób na zapis tego i odczytanie z pliku\n",
    "with open('./freefield1010/F_wrong_classified_validation_file_names_25e.txt', 'w') as filehandle:\n",
    "    for listitem in model.validation_wrong_classified[-1]:\n",
    "        filehandle.write('%s\\n' % listitem)"
   ]
  },
  {
   "cell_type": "code",
   "execution_count": 26,
   "id": "controlled-madagascar",
   "metadata": {},
   "outputs": [],
   "source": [
    "places = []\n",
    "with open('wrong_classified_validation_file_names.txt', 'r') as filehandle:\n",
    "    for line in filehandle:\n",
    "        # remove linebreak which is the last character of the string\n",
    "        currentPlace = line[:-1]\n",
    "\n",
    "        # add item to the list\n",
    "        places.append(currentPlace)"
   ]
  }
 ],
 "metadata": {
  "kernelspec": {
   "display_name": "Python 3",
   "language": "python",
   "name": "python3"
  },
  "language_info": {
   "codemirror_mode": {
    "name": "ipython",
    "version": 3
   },
   "file_extension": ".py",
   "mimetype": "text/x-python",
   "name": "python",
   "nbconvert_exporter": "python",
   "pygments_lexer": "ipython3",
   "version": "3.8.5"
  }
 },
 "nbformat": 4,
 "nbformat_minor": 5
}
